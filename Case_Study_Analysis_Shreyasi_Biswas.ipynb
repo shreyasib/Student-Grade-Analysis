{
  "cells": [
    {
      "cell_type": "markdown",
      "source": [
        "#Goal\n",
        "\n",
        "To understand whether participation in summer Math and English programs has a significant impact on students' credit accumulation in 9th grade.\n"
      ],
      "metadata": {
        "id": "V68p4vyrbx3l"
      }
    },
    {
      "cell_type": "code",
      "source": [
        "import numpy as np\n",
        "import pandas as pd"
      ],
      "metadata": {
        "id": "6ZaxWqXybzWG"
      },
      "execution_count": 228,
      "outputs": []
    },
    {
      "cell_type": "code",
      "source": [
        "# Loading sheet into a DataFrame\n",
        "df = pd.read_excel('excel_data.xlsx')\n",
        "\n",
        "# Displaying\n",
        "df.head()"
      ],
      "metadata": {
        "id": "shVDiydvLrpq",
        "outputId": "31168b3b-534b-432e-dd08-708d29373dad",
        "colab": {
          "base_uri": "https://localhost:8080/",
          "height": 503
        }
      },
      "execution_count": 229,
      "outputs": [
        {
          "output_type": "execute_result",
          "data": {
            "text/plain": [
              "   8th_CHRT                        HS_Name  STU_ID  s_male  s_frpl  s_ell  \\\n",
              "0      2016  Benjamin Franklin High School    4363       1       0      0   \n",
              "1      2016  Benjamin Franklin High School     475       1       1      0   \n",
              "2      2016  Benjamin Franklin High School    2147       0       1      0   \n",
              "3      2016  Benjamin Franklin High School    1249       0       0      0   \n",
              "4      2016  Benjamin Franklin High School    1067       0       1      0   \n",
              "\n",
              "   s_sped  std_math_8  std_read_8  math_9  eng_9  sci_9  ss_9  elec_9  \\\n",
              "0       0        0.70        1.30     1.0    0.5    1.0   1.0     1.5   \n",
              "1       0        1.80        1.18     1.0    1.0    1.0   1.0     1.0   \n",
              "2       0        1.03        1.23     1.0    1.0    1.0   1.0     1.5   \n",
              "3       0       -0.14        0.15     1.0    1.0    1.0   1.0     2.0   \n",
              "4       0        0.37        0.47     1.0    1.0    1.0   1.0     1.5   \n",
              "\n",
              "   sum_math_8  sum_eng_8  total_9  eng_math_9  sum_eng_math  Track Status  \n",
              "0           0          1      5.0         1.5             1  Not On Track  \n",
              "1           1          1      5.0         2.0             2  Not On Track  \n",
              "2           1          1      5.5         2.0             2  Not On Track  \n",
              "3           1          0      6.0         2.0             1      On Track  \n",
              "4           1          1      5.5         2.0             2  Not On Track  "
            ],
            "text/html": [
              "\n",
              "  <div id=\"df-b6325720-5e0f-4445-ac26-004f5183dd8a\" class=\"colab-df-container\">\n",
              "    <div>\n",
              "<style scoped>\n",
              "    .dataframe tbody tr th:only-of-type {\n",
              "        vertical-align: middle;\n",
              "    }\n",
              "\n",
              "    .dataframe tbody tr th {\n",
              "        vertical-align: top;\n",
              "    }\n",
              "\n",
              "    .dataframe thead th {\n",
              "        text-align: right;\n",
              "    }\n",
              "</style>\n",
              "<table border=\"1\" class=\"dataframe\">\n",
              "  <thead>\n",
              "    <tr style=\"text-align: right;\">\n",
              "      <th></th>\n",
              "      <th>8th_CHRT</th>\n",
              "      <th>HS_Name</th>\n",
              "      <th>STU_ID</th>\n",
              "      <th>s_male</th>\n",
              "      <th>s_frpl</th>\n",
              "      <th>s_ell</th>\n",
              "      <th>s_sped</th>\n",
              "      <th>std_math_8</th>\n",
              "      <th>std_read_8</th>\n",
              "      <th>math_9</th>\n",
              "      <th>eng_9</th>\n",
              "      <th>sci_9</th>\n",
              "      <th>ss_9</th>\n",
              "      <th>elec_9</th>\n",
              "      <th>sum_math_8</th>\n",
              "      <th>sum_eng_8</th>\n",
              "      <th>total_9</th>\n",
              "      <th>eng_math_9</th>\n",
              "      <th>sum_eng_math</th>\n",
              "      <th>Track Status</th>\n",
              "    </tr>\n",
              "  </thead>\n",
              "  <tbody>\n",
              "    <tr>\n",
              "      <th>0</th>\n",
              "      <td>2016</td>\n",
              "      <td>Benjamin Franklin High School</td>\n",
              "      <td>4363</td>\n",
              "      <td>1</td>\n",
              "      <td>0</td>\n",
              "      <td>0</td>\n",
              "      <td>0</td>\n",
              "      <td>0.70</td>\n",
              "      <td>1.30</td>\n",
              "      <td>1.0</td>\n",
              "      <td>0.5</td>\n",
              "      <td>1.0</td>\n",
              "      <td>1.0</td>\n",
              "      <td>1.5</td>\n",
              "      <td>0</td>\n",
              "      <td>1</td>\n",
              "      <td>5.0</td>\n",
              "      <td>1.5</td>\n",
              "      <td>1</td>\n",
              "      <td>Not On Track</td>\n",
              "    </tr>\n",
              "    <tr>\n",
              "      <th>1</th>\n",
              "      <td>2016</td>\n",
              "      <td>Benjamin Franklin High School</td>\n",
              "      <td>475</td>\n",
              "      <td>1</td>\n",
              "      <td>1</td>\n",
              "      <td>0</td>\n",
              "      <td>0</td>\n",
              "      <td>1.80</td>\n",
              "      <td>1.18</td>\n",
              "      <td>1.0</td>\n",
              "      <td>1.0</td>\n",
              "      <td>1.0</td>\n",
              "      <td>1.0</td>\n",
              "      <td>1.0</td>\n",
              "      <td>1</td>\n",
              "      <td>1</td>\n",
              "      <td>5.0</td>\n",
              "      <td>2.0</td>\n",
              "      <td>2</td>\n",
              "      <td>Not On Track</td>\n",
              "    </tr>\n",
              "    <tr>\n",
              "      <th>2</th>\n",
              "      <td>2016</td>\n",
              "      <td>Benjamin Franklin High School</td>\n",
              "      <td>2147</td>\n",
              "      <td>0</td>\n",
              "      <td>1</td>\n",
              "      <td>0</td>\n",
              "      <td>0</td>\n",
              "      <td>1.03</td>\n",
              "      <td>1.23</td>\n",
              "      <td>1.0</td>\n",
              "      <td>1.0</td>\n",
              "      <td>1.0</td>\n",
              "      <td>1.0</td>\n",
              "      <td>1.5</td>\n",
              "      <td>1</td>\n",
              "      <td>1</td>\n",
              "      <td>5.5</td>\n",
              "      <td>2.0</td>\n",
              "      <td>2</td>\n",
              "      <td>Not On Track</td>\n",
              "    </tr>\n",
              "    <tr>\n",
              "      <th>3</th>\n",
              "      <td>2016</td>\n",
              "      <td>Benjamin Franklin High School</td>\n",
              "      <td>1249</td>\n",
              "      <td>0</td>\n",
              "      <td>0</td>\n",
              "      <td>0</td>\n",
              "      <td>0</td>\n",
              "      <td>-0.14</td>\n",
              "      <td>0.15</td>\n",
              "      <td>1.0</td>\n",
              "      <td>1.0</td>\n",
              "      <td>1.0</td>\n",
              "      <td>1.0</td>\n",
              "      <td>2.0</td>\n",
              "      <td>1</td>\n",
              "      <td>0</td>\n",
              "      <td>6.0</td>\n",
              "      <td>2.0</td>\n",
              "      <td>1</td>\n",
              "      <td>On Track</td>\n",
              "    </tr>\n",
              "    <tr>\n",
              "      <th>4</th>\n",
              "      <td>2016</td>\n",
              "      <td>Benjamin Franklin High School</td>\n",
              "      <td>1067</td>\n",
              "      <td>0</td>\n",
              "      <td>1</td>\n",
              "      <td>0</td>\n",
              "      <td>0</td>\n",
              "      <td>0.37</td>\n",
              "      <td>0.47</td>\n",
              "      <td>1.0</td>\n",
              "      <td>1.0</td>\n",
              "      <td>1.0</td>\n",
              "      <td>1.0</td>\n",
              "      <td>1.5</td>\n",
              "      <td>1</td>\n",
              "      <td>1</td>\n",
              "      <td>5.5</td>\n",
              "      <td>2.0</td>\n",
              "      <td>2</td>\n",
              "      <td>Not On Track</td>\n",
              "    </tr>\n",
              "  </tbody>\n",
              "</table>\n",
              "</div>\n",
              "    <div class=\"colab-df-buttons\">\n",
              "\n",
              "  <div class=\"colab-df-container\">\n",
              "    <button class=\"colab-df-convert\" onclick=\"convertToInteractive('df-b6325720-5e0f-4445-ac26-004f5183dd8a')\"\n",
              "            title=\"Convert this dataframe to an interactive table.\"\n",
              "            style=\"display:none;\">\n",
              "\n",
              "  <svg xmlns=\"http://www.w3.org/2000/svg\" height=\"24px\" viewBox=\"0 -960 960 960\">\n",
              "    <path d=\"M120-120v-720h720v720H120Zm60-500h600v-160H180v160Zm220 220h160v-160H400v160Zm0 220h160v-160H400v160ZM180-400h160v-160H180v160Zm440 0h160v-160H620v160ZM180-180h160v-160H180v160Zm440 0h160v-160H620v160Z\"/>\n",
              "  </svg>\n",
              "    </button>\n",
              "\n",
              "  <style>\n",
              "    .colab-df-container {\n",
              "      display:flex;\n",
              "      gap: 12px;\n",
              "    }\n",
              "\n",
              "    .colab-df-convert {\n",
              "      background-color: #E8F0FE;\n",
              "      border: none;\n",
              "      border-radius: 50%;\n",
              "      cursor: pointer;\n",
              "      display: none;\n",
              "      fill: #1967D2;\n",
              "      height: 32px;\n",
              "      padding: 0 0 0 0;\n",
              "      width: 32px;\n",
              "    }\n",
              "\n",
              "    .colab-df-convert:hover {\n",
              "      background-color: #E2EBFA;\n",
              "      box-shadow: 0px 1px 2px rgba(60, 64, 67, 0.3), 0px 1px 3px 1px rgba(60, 64, 67, 0.15);\n",
              "      fill: #174EA6;\n",
              "    }\n",
              "\n",
              "    .colab-df-buttons div {\n",
              "      margin-bottom: 4px;\n",
              "    }\n",
              "\n",
              "    [theme=dark] .colab-df-convert {\n",
              "      background-color: #3B4455;\n",
              "      fill: #D2E3FC;\n",
              "    }\n",
              "\n",
              "    [theme=dark] .colab-df-convert:hover {\n",
              "      background-color: #434B5C;\n",
              "      box-shadow: 0px 1px 3px 1px rgba(0, 0, 0, 0.15);\n",
              "      filter: drop-shadow(0px 1px 2px rgba(0, 0, 0, 0.3));\n",
              "      fill: #FFFFFF;\n",
              "    }\n",
              "  </style>\n",
              "\n",
              "    <script>\n",
              "      const buttonEl =\n",
              "        document.querySelector('#df-b6325720-5e0f-4445-ac26-004f5183dd8a button.colab-df-convert');\n",
              "      buttonEl.style.display =\n",
              "        google.colab.kernel.accessAllowed ? 'block' : 'none';\n",
              "\n",
              "      async function convertToInteractive(key) {\n",
              "        const element = document.querySelector('#df-b6325720-5e0f-4445-ac26-004f5183dd8a');\n",
              "        const dataTable =\n",
              "          await google.colab.kernel.invokeFunction('convertToInteractive',\n",
              "                                                    [key], {});\n",
              "        if (!dataTable) return;\n",
              "\n",
              "        const docLinkHtml = 'Like what you see? Visit the ' +\n",
              "          '<a target=\"_blank\" href=https://colab.research.google.com/notebooks/data_table.ipynb>data table notebook</a>'\n",
              "          + ' to learn more about interactive tables.';\n",
              "        element.innerHTML = '';\n",
              "        dataTable['output_type'] = 'display_data';\n",
              "        await google.colab.output.renderOutput(dataTable, element);\n",
              "        const docLink = document.createElement('div');\n",
              "        docLink.innerHTML = docLinkHtml;\n",
              "        element.appendChild(docLink);\n",
              "      }\n",
              "    </script>\n",
              "  </div>\n",
              "\n",
              "\n",
              "<div id=\"df-1e1e1357-06ff-4fcd-a11b-7b33703e722a\">\n",
              "  <button class=\"colab-df-quickchart\" onclick=\"quickchart('df-1e1e1357-06ff-4fcd-a11b-7b33703e722a')\"\n",
              "            title=\"Suggest charts\"\n",
              "            style=\"display:none;\">\n",
              "\n",
              "<svg xmlns=\"http://www.w3.org/2000/svg\" height=\"24px\"viewBox=\"0 0 24 24\"\n",
              "     width=\"24px\">\n",
              "    <g>\n",
              "        <path d=\"M19 3H5c-1.1 0-2 .9-2 2v14c0 1.1.9 2 2 2h14c1.1 0 2-.9 2-2V5c0-1.1-.9-2-2-2zM9 17H7v-7h2v7zm4 0h-2V7h2v10zm4 0h-2v-4h2v4z\"/>\n",
              "    </g>\n",
              "</svg>\n",
              "  </button>\n",
              "\n",
              "<style>\n",
              "  .colab-df-quickchart {\n",
              "      --bg-color: #E8F0FE;\n",
              "      --fill-color: #1967D2;\n",
              "      --hover-bg-color: #E2EBFA;\n",
              "      --hover-fill-color: #174EA6;\n",
              "      --disabled-fill-color: #AAA;\n",
              "      --disabled-bg-color: #DDD;\n",
              "  }\n",
              "\n",
              "  [theme=dark] .colab-df-quickchart {\n",
              "      --bg-color: #3B4455;\n",
              "      --fill-color: #D2E3FC;\n",
              "      --hover-bg-color: #434B5C;\n",
              "      --hover-fill-color: #FFFFFF;\n",
              "      --disabled-bg-color: #3B4455;\n",
              "      --disabled-fill-color: #666;\n",
              "  }\n",
              "\n",
              "  .colab-df-quickchart {\n",
              "    background-color: var(--bg-color);\n",
              "    border: none;\n",
              "    border-radius: 50%;\n",
              "    cursor: pointer;\n",
              "    display: none;\n",
              "    fill: var(--fill-color);\n",
              "    height: 32px;\n",
              "    padding: 0;\n",
              "    width: 32px;\n",
              "  }\n",
              "\n",
              "  .colab-df-quickchart:hover {\n",
              "    background-color: var(--hover-bg-color);\n",
              "    box-shadow: 0 1px 2px rgba(60, 64, 67, 0.3), 0 1px 3px 1px rgba(60, 64, 67, 0.15);\n",
              "    fill: var(--button-hover-fill-color);\n",
              "  }\n",
              "\n",
              "  .colab-df-quickchart-complete:disabled,\n",
              "  .colab-df-quickchart-complete:disabled:hover {\n",
              "    background-color: var(--disabled-bg-color);\n",
              "    fill: var(--disabled-fill-color);\n",
              "    box-shadow: none;\n",
              "  }\n",
              "\n",
              "  .colab-df-spinner {\n",
              "    border: 2px solid var(--fill-color);\n",
              "    border-color: transparent;\n",
              "    border-bottom-color: var(--fill-color);\n",
              "    animation:\n",
              "      spin 1s steps(1) infinite;\n",
              "  }\n",
              "\n",
              "  @keyframes spin {\n",
              "    0% {\n",
              "      border-color: transparent;\n",
              "      border-bottom-color: var(--fill-color);\n",
              "      border-left-color: var(--fill-color);\n",
              "    }\n",
              "    20% {\n",
              "      border-color: transparent;\n",
              "      border-left-color: var(--fill-color);\n",
              "      border-top-color: var(--fill-color);\n",
              "    }\n",
              "    30% {\n",
              "      border-color: transparent;\n",
              "      border-left-color: var(--fill-color);\n",
              "      border-top-color: var(--fill-color);\n",
              "      border-right-color: var(--fill-color);\n",
              "    }\n",
              "    40% {\n",
              "      border-color: transparent;\n",
              "      border-right-color: var(--fill-color);\n",
              "      border-top-color: var(--fill-color);\n",
              "    }\n",
              "    60% {\n",
              "      border-color: transparent;\n",
              "      border-right-color: var(--fill-color);\n",
              "    }\n",
              "    80% {\n",
              "      border-color: transparent;\n",
              "      border-right-color: var(--fill-color);\n",
              "      border-bottom-color: var(--fill-color);\n",
              "    }\n",
              "    90% {\n",
              "      border-color: transparent;\n",
              "      border-bottom-color: var(--fill-color);\n",
              "    }\n",
              "  }\n",
              "</style>\n",
              "\n",
              "  <script>\n",
              "    async function quickchart(key) {\n",
              "      const quickchartButtonEl =\n",
              "        document.querySelector('#' + key + ' button');\n",
              "      quickchartButtonEl.disabled = true;  // To prevent multiple clicks.\n",
              "      quickchartButtonEl.classList.add('colab-df-spinner');\n",
              "      try {\n",
              "        const charts = await google.colab.kernel.invokeFunction(\n",
              "            'suggestCharts', [key], {});\n",
              "      } catch (error) {\n",
              "        console.error('Error during call to suggestCharts:', error);\n",
              "      }\n",
              "      quickchartButtonEl.classList.remove('colab-df-spinner');\n",
              "      quickchartButtonEl.classList.add('colab-df-quickchart-complete');\n",
              "    }\n",
              "    (() => {\n",
              "      let quickchartButtonEl =\n",
              "        document.querySelector('#df-1e1e1357-06ff-4fcd-a11b-7b33703e722a button');\n",
              "      quickchartButtonEl.style.display =\n",
              "        google.colab.kernel.accessAllowed ? 'block' : 'none';\n",
              "    })();\n",
              "  </script>\n",
              "</div>\n",
              "\n",
              "    </div>\n",
              "  </div>\n"
            ],
            "application/vnd.google.colaboratory.intrinsic+json": {
              "type": "dataframe",
              "variable_name": "df",
              "summary": "{\n  \"name\": \"df\",\n  \"rows\": 11141,\n  \"fields\": [\n    {\n      \"column\": \"8th_CHRT\",\n      \"properties\": {\n        \"dtype\": \"number\",\n        \"std\": 0,\n        \"min\": 2016,\n        \"max\": 2018,\n        \"num_unique_values\": 3,\n        \"samples\": [\n          2016,\n          2017,\n          2018\n        ],\n        \"semantic_type\": \"\",\n        \"description\": \"\"\n      }\n    },\n    {\n      \"column\": \"HS_Name\",\n      \"properties\": {\n        \"dtype\": \"category\",\n        \"num_unique_values\": 13,\n        \"samples\": [\n          \"Ulysses High School\",\n          \"Theodore Roosevelt High School\",\n          \"Benjamin Franklin High School\"\n        ],\n        \"semantic_type\": \"\",\n        \"description\": \"\"\n      }\n    },\n    {\n      \"column\": \"STU_ID\",\n      \"properties\": {\n        \"dtype\": \"number\",\n        \"std\": 4311,\n        \"min\": 15,\n        \"max\": 14900,\n        \"num_unique_values\": 11141,\n        \"samples\": [\n          8265,\n          3442,\n          13752\n        ],\n        \"semantic_type\": \"\",\n        \"description\": \"\"\n      }\n    },\n    {\n      \"column\": \"s_male\",\n      \"properties\": {\n        \"dtype\": \"number\",\n        \"std\": 0,\n        \"min\": 0,\n        \"max\": 1,\n        \"num_unique_values\": 2,\n        \"samples\": [\n          0,\n          1\n        ],\n        \"semantic_type\": \"\",\n        \"description\": \"\"\n      }\n    },\n    {\n      \"column\": \"s_frpl\",\n      \"properties\": {\n        \"dtype\": \"number\",\n        \"std\": 0,\n        \"min\": 0,\n        \"max\": 1,\n        \"num_unique_values\": 2,\n        \"samples\": [\n          1,\n          0\n        ],\n        \"semantic_type\": \"\",\n        \"description\": \"\"\n      }\n    },\n    {\n      \"column\": \"s_ell\",\n      \"properties\": {\n        \"dtype\": \"number\",\n        \"std\": 0,\n        \"min\": 0,\n        \"max\": 1,\n        \"num_unique_values\": 2,\n        \"samples\": [\n          1,\n          0\n        ],\n        \"semantic_type\": \"\",\n        \"description\": \"\"\n      }\n    },\n    {\n      \"column\": \"s_sped\",\n      \"properties\": {\n        \"dtype\": \"number\",\n        \"std\": 0,\n        \"min\": 0,\n        \"max\": 1,\n        \"num_unique_values\": 2,\n        \"samples\": [\n          1,\n          0\n        ],\n        \"semantic_type\": \"\",\n        \"description\": \"\"\n      }\n    },\n    {\n      \"column\": \"std_math_8\",\n      \"properties\": {\n        \"dtype\": \"number\",\n        \"std\": 1.0144772683075223,\n        \"min\": -3.03,\n        \"max\": 3.34,\n        \"num_unique_values\": 527,\n        \"samples\": [\n          0.06,\n          -2.4\n        ],\n        \"semantic_type\": \"\",\n        \"description\": \"\"\n      }\n    },\n    {\n      \"column\": \"std_read_8\",\n      \"properties\": {\n        \"dtype\": \"number\",\n        \"std\": 1.013538311962232,\n        \"min\": -4.41,\n        \"max\": 2.7,\n        \"num_unique_values\": 559,\n        \"samples\": [\n          -0.69,\n          -3.32\n        ],\n        \"semantic_type\": \"\",\n        \"description\": \"\"\n      }\n    },\n    {\n      \"column\": \"math_9\",\n      \"properties\": {\n        \"dtype\": \"number\",\n        \"std\": 0.3859419968026184,\n        \"min\": 0.0,\n        \"max\": 1.0,\n        \"num_unique_values\": 3,\n        \"samples\": [\n          1.0,\n          0.5\n        ],\n        \"semantic_type\": \"\",\n        \"description\": \"\"\n      }\n    },\n    {\n      \"column\": \"eng_9\",\n      \"properties\": {\n        \"dtype\": \"number\",\n        \"std\": 0.36050024267459824,\n        \"min\": 0.0,\n        \"max\": 1.0,\n        \"num_unique_values\": 3,\n        \"samples\": [\n          0.5,\n          1.0\n        ],\n        \"semantic_type\": \"\",\n        \"description\": \"\"\n      }\n    },\n    {\n      \"column\": \"sci_9\",\n      \"properties\": {\n        \"dtype\": \"number\",\n        \"std\": 0.3624055149569991,\n        \"min\": 0.0,\n        \"max\": 1.0,\n        \"num_unique_values\": 3,\n        \"samples\": [\n          1.0,\n          0.0\n        ],\n        \"semantic_type\": \"\",\n        \"description\": \"\"\n      }\n    },\n    {\n      \"column\": \"ss_9\",\n      \"properties\": {\n        \"dtype\": \"number\",\n        \"std\": 0.3657128898588605,\n        \"min\": 0.0,\n        \"max\": 1.0,\n        \"num_unique_values\": 3,\n        \"samples\": [\n          1.0,\n          0.0\n        ],\n        \"semantic_type\": \"\",\n        \"description\": \"\"\n      }\n    },\n    {\n      \"column\": \"elec_9\",\n      \"properties\": {\n        \"dtype\": \"number\",\n        \"std\": 0.5078627265327296,\n        \"min\": 0.0,\n        \"max\": 2.0,\n        \"num_unique_values\": 5,\n        \"samples\": [\n          1.0,\n          0.5\n        ],\n        \"semantic_type\": \"\",\n        \"description\": \"\"\n      }\n    },\n    {\n      \"column\": \"sum_math_8\",\n      \"properties\": {\n        \"dtype\": \"number\",\n        \"std\": 0,\n        \"min\": 0,\n        \"max\": 1,\n        \"num_unique_values\": 2,\n        \"samples\": [\n          1,\n          0\n        ],\n        \"semantic_type\": \"\",\n        \"description\": \"\"\n      }\n    },\n    {\n      \"column\": \"sum_eng_8\",\n      \"properties\": {\n        \"dtype\": \"number\",\n        \"std\": 0,\n        \"min\": 0,\n        \"max\": 1,\n        \"num_unique_values\": 2,\n        \"samples\": [\n          0,\n          1\n        ],\n        \"semantic_type\": \"\",\n        \"description\": \"\"\n      }\n    },\n    {\n      \"column\": \"total_9\",\n      \"properties\": {\n        \"dtype\": \"number\",\n        \"std\": 1.2988081227106079,\n        \"min\": 0.0,\n        \"max\": 6.0,\n        \"num_unique_values\": 13,\n        \"samples\": [\n          0.0,\n          4.5\n        ],\n        \"semantic_type\": \"\",\n        \"description\": \"\"\n      }\n    },\n    {\n      \"column\": \"eng_math_9\",\n      \"properties\": {\n        \"dtype\": \"number\",\n        \"std\": 0.607178701241359,\n        \"min\": 0.0,\n        \"max\": 2.0,\n        \"num_unique_values\": 5,\n        \"samples\": [\n          2.0,\n          0.5\n        ],\n        \"semantic_type\": \"\",\n        \"description\": \"\"\n      }\n    },\n    {\n      \"column\": \"sum_eng_math\",\n      \"properties\": {\n        \"dtype\": \"number\",\n        \"std\": 0,\n        \"min\": 0,\n        \"max\": 2,\n        \"num_unique_values\": 3,\n        \"samples\": [\n          1,\n          2\n        ],\n        \"semantic_type\": \"\",\n        \"description\": \"\"\n      }\n    },\n    {\n      \"column\": \"Track Status\",\n      \"properties\": {\n        \"dtype\": \"category\",\n        \"num_unique_values\": 2,\n        \"samples\": [\n          \"On Track\",\n          \"Not On Track\"\n        ],\n        \"semantic_type\": \"\",\n        \"description\": \"\"\n      }\n    }\n  ]\n}"
            }
          },
          "metadata": {},
          "execution_count": 229
        }
      ]
    },
    {
      "cell_type": "code",
      "source": [
        "# To see the dimension of dataset\n",
        "df.shape"
      ],
      "metadata": {
        "id": "CqHiLJ2PLrsd",
        "outputId": "af94eee9-8457-4b39-be6a-c387b5e394e0",
        "colab": {
          "base_uri": "https://localhost:8080/"
        }
      },
      "execution_count": 230,
      "outputs": [
        {
          "output_type": "execute_result",
          "data": {
            "text/plain": [
              "(11141, 20)"
            ]
          },
          "metadata": {},
          "execution_count": 230
        }
      ]
    },
    {
      "cell_type": "code",
      "source": [
        "# To see all the columns in the dataset\n",
        "df.columns"
      ],
      "metadata": {
        "id": "dU5cO7JoLruy",
        "outputId": "ae6a2312-2fc6-4446-90ab-9b742a8bb9e7",
        "colab": {
          "base_uri": "https://localhost:8080/"
        }
      },
      "execution_count": 231,
      "outputs": [
        {
          "output_type": "execute_result",
          "data": {
            "text/plain": [
              "Index(['8th_CHRT', 'HS_Name', 'STU_ID', 's_male', 's_frpl', 's_ell', 's_sped',\n",
              "       'std_math_8', 'std_read_8', 'math_9', 'eng_9', 'sci_9', 'ss_9',\n",
              "       'elec_9', 'sum_math_8', 'sum_eng_8', 'total_9', 'eng_math_9',\n",
              "       'sum_eng_math', 'Track Status'],\n",
              "      dtype='object')"
            ]
          },
          "metadata": {},
          "execution_count": 231
        }
      ]
    },
    {
      "cell_type": "markdown",
      "source": [
        "# Exploring Data"
      ],
      "metadata": {
        "id": "cuKM4lhssOAp"
      }
    },
    {
      "cell_type": "code",
      "source": [
        "# Checking for duplicate student IDs\n",
        "duplicates = df[df.duplicated(subset='STU_ID', keep=False)]\n",
        "\n",
        "print('Duplicate student IDs found:', duplicates)"
      ],
      "metadata": {
        "colab": {
          "base_uri": "https://localhost:8080/"
        },
        "id": "XqUPtCjx49Vo",
        "outputId": "d3a8e4fc-4ae5-4e5f-9825-66c88d74e5f5"
      },
      "execution_count": 232,
      "outputs": [
        {
          "output_type": "stream",
          "name": "stdout",
          "text": [
            "Duplicate student IDs found: Empty DataFrame\n",
            "Columns: [8th_CHRT, HS_Name, STU_ID, s_male, s_frpl, s_ell, s_sped, std_math_8, std_read_8, math_9, eng_9, sci_9, ss_9, elec_9, sum_math_8, sum_eng_8, total_9, eng_math_9, sum_eng_math, Track Status]\n",
            "Index: []\n"
          ]
        }
      ]
    },
    {
      "cell_type": "markdown",
      "source": [
        "So no duplicates!"
      ],
      "metadata": {
        "id": "cqnL8z7QfqfF"
      }
    },
    {
      "cell_type": "code",
      "source": [
        "# To see the distribution of the gender of students\n",
        "df.s_male.value_counts()"
      ],
      "metadata": {
        "colab": {
          "base_uri": "https://localhost:8080/",
          "height": 178
        },
        "id": "bEPiCpWusQ7w",
        "outputId": "2a9a6a73-e8e5-4eb9-85c1-f6b31ef9223e"
      },
      "execution_count": 233,
      "outputs": [
        {
          "output_type": "execute_result",
          "data": {
            "text/plain": [
              "s_male\n",
              "0    5916\n",
              "1    5225\n",
              "Name: count, dtype: int64"
            ],
            "text/html": [
              "<div>\n",
              "<style scoped>\n",
              "    .dataframe tbody tr th:only-of-type {\n",
              "        vertical-align: middle;\n",
              "    }\n",
              "\n",
              "    .dataframe tbody tr th {\n",
              "        vertical-align: top;\n",
              "    }\n",
              "\n",
              "    .dataframe thead th {\n",
              "        text-align: right;\n",
              "    }\n",
              "</style>\n",
              "<table border=\"1\" class=\"dataframe\">\n",
              "  <thead>\n",
              "    <tr style=\"text-align: right;\">\n",
              "      <th></th>\n",
              "      <th>count</th>\n",
              "    </tr>\n",
              "    <tr>\n",
              "      <th>s_male</th>\n",
              "      <th></th>\n",
              "    </tr>\n",
              "  </thead>\n",
              "  <tbody>\n",
              "    <tr>\n",
              "      <th>0</th>\n",
              "      <td>5916</td>\n",
              "    </tr>\n",
              "    <tr>\n",
              "      <th>1</th>\n",
              "      <td>5225</td>\n",
              "    </tr>\n",
              "  </tbody>\n",
              "</table>\n",
              "</div><br><label><b>dtype:</b> int64</label>"
            ]
          },
          "metadata": {},
          "execution_count": 233
        }
      ]
    },
    {
      "cell_type": "code",
      "source": [
        "# To see the distribution of summer math program participants\n",
        "df.sum_math_8.value_counts()"
      ],
      "metadata": {
        "colab": {
          "base_uri": "https://localhost:8080/",
          "height": 178
        },
        "id": "Zc67mugssQ-p",
        "outputId": "40b3b21a-c956-442d-c019-7ea7e27d8f6f"
      },
      "execution_count": 234,
      "outputs": [
        {
          "output_type": "execute_result",
          "data": {
            "text/plain": [
              "sum_math_8\n",
              "0    8309\n",
              "1    2832\n",
              "Name: count, dtype: int64"
            ],
            "text/html": [
              "<div>\n",
              "<style scoped>\n",
              "    .dataframe tbody tr th:only-of-type {\n",
              "        vertical-align: middle;\n",
              "    }\n",
              "\n",
              "    .dataframe tbody tr th {\n",
              "        vertical-align: top;\n",
              "    }\n",
              "\n",
              "    .dataframe thead th {\n",
              "        text-align: right;\n",
              "    }\n",
              "</style>\n",
              "<table border=\"1\" class=\"dataframe\">\n",
              "  <thead>\n",
              "    <tr style=\"text-align: right;\">\n",
              "      <th></th>\n",
              "      <th>count</th>\n",
              "    </tr>\n",
              "    <tr>\n",
              "      <th>sum_math_8</th>\n",
              "      <th></th>\n",
              "    </tr>\n",
              "  </thead>\n",
              "  <tbody>\n",
              "    <tr>\n",
              "      <th>0</th>\n",
              "      <td>8309</td>\n",
              "    </tr>\n",
              "    <tr>\n",
              "      <th>1</th>\n",
              "      <td>2832</td>\n",
              "    </tr>\n",
              "  </tbody>\n",
              "</table>\n",
              "</div><br><label><b>dtype:</b> int64</label>"
            ]
          },
          "metadata": {},
          "execution_count": 234
        }
      ]
    },
    {
      "cell_type": "code",
      "source": [
        "# To see the distribution of summer english program participants\n",
        "df.sum_eng_8.value_counts()"
      ],
      "metadata": {
        "colab": {
          "base_uri": "https://localhost:8080/",
          "height": 178
        },
        "id": "qJQakgL1sRBT",
        "outputId": "2e07bd78-43bb-4f71-a226-76330a20a3d5"
      },
      "execution_count": 235,
      "outputs": [
        {
          "output_type": "execute_result",
          "data": {
            "text/plain": [
              "sum_eng_8\n",
              "0    8274\n",
              "1    2867\n",
              "Name: count, dtype: int64"
            ],
            "text/html": [
              "<div>\n",
              "<style scoped>\n",
              "    .dataframe tbody tr th:only-of-type {\n",
              "        vertical-align: middle;\n",
              "    }\n",
              "\n",
              "    .dataframe tbody tr th {\n",
              "        vertical-align: top;\n",
              "    }\n",
              "\n",
              "    .dataframe thead th {\n",
              "        text-align: right;\n",
              "    }\n",
              "</style>\n",
              "<table border=\"1\" class=\"dataframe\">\n",
              "  <thead>\n",
              "    <tr style=\"text-align: right;\">\n",
              "      <th></th>\n",
              "      <th>count</th>\n",
              "    </tr>\n",
              "    <tr>\n",
              "      <th>sum_eng_8</th>\n",
              "      <th></th>\n",
              "    </tr>\n",
              "  </thead>\n",
              "  <tbody>\n",
              "    <tr>\n",
              "      <th>0</th>\n",
              "      <td>8274</td>\n",
              "    </tr>\n",
              "    <tr>\n",
              "      <th>1</th>\n",
              "      <td>2867</td>\n",
              "    </tr>\n",
              "  </tbody>\n",
              "</table>\n",
              "</div><br><label><b>dtype:</b> int64</label>"
            ]
          },
          "metadata": {},
          "execution_count": 235
        }
      ]
    },
    {
      "cell_type": "code",
      "source": [
        "# To see the distribution of whether student qualifies for federal free or reduced lunch program\n",
        "df.s_frpl.value_counts()"
      ],
      "metadata": {
        "colab": {
          "base_uri": "https://localhost:8080/",
          "height": 178
        },
        "id": "yzHl2NqrsRDt",
        "outputId": "15397873-3ec2-4d21-9744-66c7018901ad"
      },
      "execution_count": 236,
      "outputs": [
        {
          "output_type": "execute_result",
          "data": {
            "text/plain": [
              "s_frpl\n",
              "0    6487\n",
              "1    4654\n",
              "Name: count, dtype: int64"
            ],
            "text/html": [
              "<div>\n",
              "<style scoped>\n",
              "    .dataframe tbody tr th:only-of-type {\n",
              "        vertical-align: middle;\n",
              "    }\n",
              "\n",
              "    .dataframe tbody tr th {\n",
              "        vertical-align: top;\n",
              "    }\n",
              "\n",
              "    .dataframe thead th {\n",
              "        text-align: right;\n",
              "    }\n",
              "</style>\n",
              "<table border=\"1\" class=\"dataframe\">\n",
              "  <thead>\n",
              "    <tr style=\"text-align: right;\">\n",
              "      <th></th>\n",
              "      <th>count</th>\n",
              "    </tr>\n",
              "    <tr>\n",
              "      <th>s_frpl</th>\n",
              "      <th></th>\n",
              "    </tr>\n",
              "  </thead>\n",
              "  <tbody>\n",
              "    <tr>\n",
              "      <th>0</th>\n",
              "      <td>6487</td>\n",
              "    </tr>\n",
              "    <tr>\n",
              "      <th>1</th>\n",
              "      <td>4654</td>\n",
              "    </tr>\n",
              "  </tbody>\n",
              "</table>\n",
              "</div><br><label><b>dtype:</b> int64</label>"
            ]
          },
          "metadata": {},
          "execution_count": 236
        }
      ]
    },
    {
      "cell_type": "code",
      "source": [
        "# To see the distribution of whether student has been identified as an English Language Learner\n",
        "df.s_ell.value_counts()"
      ],
      "metadata": {
        "colab": {
          "base_uri": "https://localhost:8080/",
          "height": 178
        },
        "id": "oOAN6-4lslu0",
        "outputId": "8f01fada-6106-412b-a5aa-dc0a4152e90e"
      },
      "execution_count": 237,
      "outputs": [
        {
          "output_type": "execute_result",
          "data": {
            "text/plain": [
              "s_ell\n",
              "0    10262\n",
              "1      879\n",
              "Name: count, dtype: int64"
            ],
            "text/html": [
              "<div>\n",
              "<style scoped>\n",
              "    .dataframe tbody tr th:only-of-type {\n",
              "        vertical-align: middle;\n",
              "    }\n",
              "\n",
              "    .dataframe tbody tr th {\n",
              "        vertical-align: top;\n",
              "    }\n",
              "\n",
              "    .dataframe thead th {\n",
              "        text-align: right;\n",
              "    }\n",
              "</style>\n",
              "<table border=\"1\" class=\"dataframe\">\n",
              "  <thead>\n",
              "    <tr style=\"text-align: right;\">\n",
              "      <th></th>\n",
              "      <th>count</th>\n",
              "    </tr>\n",
              "    <tr>\n",
              "      <th>s_ell</th>\n",
              "      <th></th>\n",
              "    </tr>\n",
              "  </thead>\n",
              "  <tbody>\n",
              "    <tr>\n",
              "      <th>0</th>\n",
              "      <td>10262</td>\n",
              "    </tr>\n",
              "    <tr>\n",
              "      <th>1</th>\n",
              "      <td>879</td>\n",
              "    </tr>\n",
              "  </tbody>\n",
              "</table>\n",
              "</div><br><label><b>dtype:</b> int64</label>"
            ]
          },
          "metadata": {},
          "execution_count": 237
        }
      ]
    },
    {
      "cell_type": "code",
      "source": [
        "# To see the distribution of whether student received special education services\n",
        "df.s_sped.value_counts()"
      ],
      "metadata": {
        "colab": {
          "base_uri": "https://localhost:8080/",
          "height": 178
        },
        "id": "dT4QeUMksl0N",
        "outputId": "23207af0-09a7-40bc-a0bc-691c71b929c3"
      },
      "execution_count": 238,
      "outputs": [
        {
          "output_type": "execute_result",
          "data": {
            "text/plain": [
              "s_sped\n",
              "0    10205\n",
              "1      936\n",
              "Name: count, dtype: int64"
            ],
            "text/html": [
              "<div>\n",
              "<style scoped>\n",
              "    .dataframe tbody tr th:only-of-type {\n",
              "        vertical-align: middle;\n",
              "    }\n",
              "\n",
              "    .dataframe tbody tr th {\n",
              "        vertical-align: top;\n",
              "    }\n",
              "\n",
              "    .dataframe thead th {\n",
              "        text-align: right;\n",
              "    }\n",
              "</style>\n",
              "<table border=\"1\" class=\"dataframe\">\n",
              "  <thead>\n",
              "    <tr style=\"text-align: right;\">\n",
              "      <th></th>\n",
              "      <th>count</th>\n",
              "    </tr>\n",
              "    <tr>\n",
              "      <th>s_sped</th>\n",
              "      <th></th>\n",
              "    </tr>\n",
              "  </thead>\n",
              "  <tbody>\n",
              "    <tr>\n",
              "      <th>0</th>\n",
              "      <td>10205</td>\n",
              "    </tr>\n",
              "    <tr>\n",
              "      <th>1</th>\n",
              "      <td>936</td>\n",
              "    </tr>\n",
              "  </tbody>\n",
              "</table>\n",
              "</div><br><label><b>dtype:</b> int64</label>"
            ]
          },
          "metadata": {},
          "execution_count": 238
        }
      ]
    },
    {
      "cell_type": "code",
      "source": [
        "# To see the distribution of students in the high schools\n",
        "df.HS_Name.value_counts()"
      ],
      "metadata": {
        "colab": {
          "base_uri": "https://localhost:8080/",
          "height": 523
        },
        "id": "Wn5BxHsUvT9v",
        "outputId": "0e3c20b2-0863-4118-c36b-6179fc240912"
      },
      "execution_count": 239,
      "outputs": [
        {
          "output_type": "execute_result",
          "data": {
            "text/plain": [
              "HS_Name\n",
              "John Adams High School               1218\n",
              "Einsenhower High School              1154\n",
              "Franklin D. Roosevelt High School    1081\n",
              "Benjamin Franklin High School        1068\n",
              "Thomas Jefferson High School         1004\n",
              "James Madison High School             949\n",
              "Woodrow Wilson High School            901\n",
              "James Buchanan High School            883\n",
              "R.L. Stevenson High School            633\n",
              "Franklin Pierce High School           597\n",
              "Theodore Roosevelt High School        566\n",
              "Kennedy High School                   554\n",
              "Ulysses High School                   533\n",
              "Name: count, dtype: int64"
            ],
            "text/html": [
              "<div>\n",
              "<style scoped>\n",
              "    .dataframe tbody tr th:only-of-type {\n",
              "        vertical-align: middle;\n",
              "    }\n",
              "\n",
              "    .dataframe tbody tr th {\n",
              "        vertical-align: top;\n",
              "    }\n",
              "\n",
              "    .dataframe thead th {\n",
              "        text-align: right;\n",
              "    }\n",
              "</style>\n",
              "<table border=\"1\" class=\"dataframe\">\n",
              "  <thead>\n",
              "    <tr style=\"text-align: right;\">\n",
              "      <th></th>\n",
              "      <th>count</th>\n",
              "    </tr>\n",
              "    <tr>\n",
              "      <th>HS_Name</th>\n",
              "      <th></th>\n",
              "    </tr>\n",
              "  </thead>\n",
              "  <tbody>\n",
              "    <tr>\n",
              "      <th>John Adams High School</th>\n",
              "      <td>1218</td>\n",
              "    </tr>\n",
              "    <tr>\n",
              "      <th>Einsenhower High School</th>\n",
              "      <td>1154</td>\n",
              "    </tr>\n",
              "    <tr>\n",
              "      <th>Franklin D. Roosevelt High School</th>\n",
              "      <td>1081</td>\n",
              "    </tr>\n",
              "    <tr>\n",
              "      <th>Benjamin Franklin High School</th>\n",
              "      <td>1068</td>\n",
              "    </tr>\n",
              "    <tr>\n",
              "      <th>Thomas Jefferson High School</th>\n",
              "      <td>1004</td>\n",
              "    </tr>\n",
              "    <tr>\n",
              "      <th>James Madison High School</th>\n",
              "      <td>949</td>\n",
              "    </tr>\n",
              "    <tr>\n",
              "      <th>Woodrow Wilson High School</th>\n",
              "      <td>901</td>\n",
              "    </tr>\n",
              "    <tr>\n",
              "      <th>James Buchanan High School</th>\n",
              "      <td>883</td>\n",
              "    </tr>\n",
              "    <tr>\n",
              "      <th>R.L. Stevenson High School</th>\n",
              "      <td>633</td>\n",
              "    </tr>\n",
              "    <tr>\n",
              "      <th>Franklin Pierce High School</th>\n",
              "      <td>597</td>\n",
              "    </tr>\n",
              "    <tr>\n",
              "      <th>Theodore Roosevelt High School</th>\n",
              "      <td>566</td>\n",
              "    </tr>\n",
              "    <tr>\n",
              "      <th>Kennedy High School</th>\n",
              "      <td>554</td>\n",
              "    </tr>\n",
              "    <tr>\n",
              "      <th>Ulysses High School</th>\n",
              "      <td>533</td>\n",
              "    </tr>\n",
              "  </tbody>\n",
              "</table>\n",
              "</div><br><label><b>dtype:</b> int64</label>"
            ]
          },
          "metadata": {},
          "execution_count": 239
        }
      ]
    },
    {
      "cell_type": "code",
      "source": [
        "# To see the distribution of students between 2016-2018\n",
        "df['8th_CHRT'].value_counts()"
      ],
      "metadata": {
        "colab": {
          "base_uri": "https://localhost:8080/",
          "height": 209
        },
        "id": "-zD2AvV2va1V",
        "outputId": "a6342fe9-1619-4976-ac45-e3e920e68e8f"
      },
      "execution_count": 240,
      "outputs": [
        {
          "output_type": "execute_result",
          "data": {
            "text/plain": [
              "8th_CHRT\n",
              "2016    3781\n",
              "2018    3761\n",
              "2017    3599\n",
              "Name: count, dtype: int64"
            ],
            "text/html": [
              "<div>\n",
              "<style scoped>\n",
              "    .dataframe tbody tr th:only-of-type {\n",
              "        vertical-align: middle;\n",
              "    }\n",
              "\n",
              "    .dataframe tbody tr th {\n",
              "        vertical-align: top;\n",
              "    }\n",
              "\n",
              "    .dataframe thead th {\n",
              "        text-align: right;\n",
              "    }\n",
              "</style>\n",
              "<table border=\"1\" class=\"dataframe\">\n",
              "  <thead>\n",
              "    <tr style=\"text-align: right;\">\n",
              "      <th></th>\n",
              "      <th>count</th>\n",
              "    </tr>\n",
              "    <tr>\n",
              "      <th>8th_CHRT</th>\n",
              "      <th></th>\n",
              "    </tr>\n",
              "  </thead>\n",
              "  <tbody>\n",
              "    <tr>\n",
              "      <th>2016</th>\n",
              "      <td>3781</td>\n",
              "    </tr>\n",
              "    <tr>\n",
              "      <th>2018</th>\n",
              "      <td>3761</td>\n",
              "    </tr>\n",
              "    <tr>\n",
              "      <th>2017</th>\n",
              "      <td>3599</td>\n",
              "    </tr>\n",
              "  </tbody>\n",
              "</table>\n",
              "</div><br><label><b>dtype:</b> int64</label>"
            ]
          },
          "metadata": {},
          "execution_count": 240
        }
      ]
    },
    {
      "cell_type": "markdown",
      "source": [
        "# Descriptive Statistics\n"
      ],
      "metadata": {
        "id": "4Hxh3J6ucyLn"
      }
    },
    {
      "cell_type": "code",
      "source": [
        "df.info()"
      ],
      "metadata": {
        "id": "54mpUBr8LrxI",
        "outputId": "12d1d180-82d3-4100-b346-4730e4ac3dc7",
        "colab": {
          "base_uri": "https://localhost:8080/"
        }
      },
      "execution_count": 241,
      "outputs": [
        {
          "output_type": "stream",
          "name": "stdout",
          "text": [
            "<class 'pandas.core.frame.DataFrame'>\n",
            "RangeIndex: 11141 entries, 0 to 11140\n",
            "Data columns (total 20 columns):\n",
            " #   Column        Non-Null Count  Dtype  \n",
            "---  ------        --------------  -----  \n",
            " 0   8th_CHRT      11141 non-null  int64  \n",
            " 1   HS_Name       11141 non-null  object \n",
            " 2   STU_ID        11141 non-null  int64  \n",
            " 3   s_male        11141 non-null  int64  \n",
            " 4   s_frpl        11141 non-null  int64  \n",
            " 5   s_ell         11141 non-null  int64  \n",
            " 6   s_sped        11141 non-null  int64  \n",
            " 7   std_math_8    8648 non-null   float64\n",
            " 8   std_read_8    8638 non-null   float64\n",
            " 9   math_9        11137 non-null  float64\n",
            " 10  eng_9         11137 non-null  float64\n",
            " 11  sci_9         11137 non-null  float64\n",
            " 12  ss_9          11137 non-null  float64\n",
            " 13  elec_9        11137 non-null  float64\n",
            " 14  sum_math_8    11141 non-null  int64  \n",
            " 15  sum_eng_8     11141 non-null  int64  \n",
            " 16  total_9       11141 non-null  float64\n",
            " 17  eng_math_9    11141 non-null  float64\n",
            " 18  sum_eng_math  11141 non-null  int64  \n",
            " 19  Track Status  11141 non-null  object \n",
            "dtypes: float64(9), int64(9), object(2)\n",
            "memory usage: 1.7+ MB\n"
          ]
        }
      ]
    },
    {
      "cell_type": "code",
      "source": [
        "# Descriptive statistics\n",
        "df.describe()"
      ],
      "metadata": {
        "id": "2dacdGWlLrzf",
        "outputId": "89cbd202-c2f0-4042-f3b9-a56775ce9230",
        "colab": {
          "base_uri": "https://localhost:8080/",
          "height": 320
        }
      },
      "execution_count": 242,
      "outputs": [
        {
          "output_type": "execute_result",
          "data": {
            "text/plain": [
              "           8th_CHRT        STU_ID        s_male        s_frpl         s_ell  \\\n",
              "count  11141.000000  11141.000000  11141.000000  11141.000000  11141.000000   \n",
              "mean    2016.998205   7467.260659      0.468988      0.417736      0.078898   \n",
              "std        0.822810   4311.153707      0.499060      0.493208      0.269591   \n",
              "min     2016.000000     15.000000      0.000000      0.000000      0.000000   \n",
              "25%     2016.000000   3744.000000      0.000000      0.000000      0.000000   \n",
              "50%     2017.000000   7461.000000      0.000000      0.000000      0.000000   \n",
              "75%     2018.000000  11198.000000      1.000000      1.000000      0.000000   \n",
              "max     2018.000000  14900.000000      1.000000      1.000000      1.000000   \n",
              "\n",
              "             s_sped   std_math_8   std_read_8        math_9         eng_9  \\\n",
              "count  11141.000000  8648.000000  8638.000000  11137.000000  11137.000000   \n",
              "mean       0.084014    -0.006401    -0.005112      0.799093      0.830026   \n",
              "std        0.277421     1.014477     1.013538      0.385942      0.360500   \n",
              "min        0.000000    -3.030000    -4.410000      0.000000      0.000000   \n",
              "25%        0.000000    -0.730000    -0.630000      1.000000      1.000000   \n",
              "50%        0.000000    -0.020000     0.100000      1.000000      1.000000   \n",
              "75%        0.000000     0.730000     0.710000      1.000000      1.000000   \n",
              "max        1.000000     3.340000     2.700000      1.000000      1.000000   \n",
              "\n",
              "              sci_9          ss_9        elec_9    sum_math_8     sum_eng_8  \\\n",
              "count  11137.000000  11137.000000  11137.000000  11141.000000  11141.000000   \n",
              "mean       0.826973      0.825312      1.504759      0.254196      0.257338   \n",
              "std        0.362406      0.365713      0.507863      0.435428      0.437187   \n",
              "min        0.000000      0.000000      0.000000      0.000000      0.000000   \n",
              "25%        1.000000      1.000000      1.000000      0.000000      0.000000   \n",
              "50%        1.000000      1.000000      1.500000      0.000000      0.000000   \n",
              "75%        1.000000      1.000000      2.000000      1.000000      1.000000   \n",
              "max        1.000000      1.000000      2.000000      1.000000      1.000000   \n",
              "\n",
              "            total_9    eng_math_9  sum_eng_math  \n",
              "count  11141.000000  11141.000000  11141.000000  \n",
              "mean       4.784445      1.628534      0.511534  \n",
              "std        1.298808      0.607179      0.619533  \n",
              "min        0.000000      0.000000      0.000000  \n",
              "25%        4.000000      1.000000      0.000000  \n",
              "50%        5.000000      2.000000      0.000000  \n",
              "75%        5.500000      2.000000      1.000000  \n",
              "max        6.000000      2.000000      2.000000  "
            ],
            "text/html": [
              "\n",
              "  <div id=\"df-070aa905-7237-46db-8880-c01c5c83b592\" class=\"colab-df-container\">\n",
              "    <div>\n",
              "<style scoped>\n",
              "    .dataframe tbody tr th:only-of-type {\n",
              "        vertical-align: middle;\n",
              "    }\n",
              "\n",
              "    .dataframe tbody tr th {\n",
              "        vertical-align: top;\n",
              "    }\n",
              "\n",
              "    .dataframe thead th {\n",
              "        text-align: right;\n",
              "    }\n",
              "</style>\n",
              "<table border=\"1\" class=\"dataframe\">\n",
              "  <thead>\n",
              "    <tr style=\"text-align: right;\">\n",
              "      <th></th>\n",
              "      <th>8th_CHRT</th>\n",
              "      <th>STU_ID</th>\n",
              "      <th>s_male</th>\n",
              "      <th>s_frpl</th>\n",
              "      <th>s_ell</th>\n",
              "      <th>s_sped</th>\n",
              "      <th>std_math_8</th>\n",
              "      <th>std_read_8</th>\n",
              "      <th>math_9</th>\n",
              "      <th>eng_9</th>\n",
              "      <th>sci_9</th>\n",
              "      <th>ss_9</th>\n",
              "      <th>elec_9</th>\n",
              "      <th>sum_math_8</th>\n",
              "      <th>sum_eng_8</th>\n",
              "      <th>total_9</th>\n",
              "      <th>eng_math_9</th>\n",
              "      <th>sum_eng_math</th>\n",
              "    </tr>\n",
              "  </thead>\n",
              "  <tbody>\n",
              "    <tr>\n",
              "      <th>count</th>\n",
              "      <td>11141.000000</td>\n",
              "      <td>11141.000000</td>\n",
              "      <td>11141.000000</td>\n",
              "      <td>11141.000000</td>\n",
              "      <td>11141.000000</td>\n",
              "      <td>11141.000000</td>\n",
              "      <td>8648.000000</td>\n",
              "      <td>8638.000000</td>\n",
              "      <td>11137.000000</td>\n",
              "      <td>11137.000000</td>\n",
              "      <td>11137.000000</td>\n",
              "      <td>11137.000000</td>\n",
              "      <td>11137.000000</td>\n",
              "      <td>11141.000000</td>\n",
              "      <td>11141.000000</td>\n",
              "      <td>11141.000000</td>\n",
              "      <td>11141.000000</td>\n",
              "      <td>11141.000000</td>\n",
              "    </tr>\n",
              "    <tr>\n",
              "      <th>mean</th>\n",
              "      <td>2016.998205</td>\n",
              "      <td>7467.260659</td>\n",
              "      <td>0.468988</td>\n",
              "      <td>0.417736</td>\n",
              "      <td>0.078898</td>\n",
              "      <td>0.084014</td>\n",
              "      <td>-0.006401</td>\n",
              "      <td>-0.005112</td>\n",
              "      <td>0.799093</td>\n",
              "      <td>0.830026</td>\n",
              "      <td>0.826973</td>\n",
              "      <td>0.825312</td>\n",
              "      <td>1.504759</td>\n",
              "      <td>0.254196</td>\n",
              "      <td>0.257338</td>\n",
              "      <td>4.784445</td>\n",
              "      <td>1.628534</td>\n",
              "      <td>0.511534</td>\n",
              "    </tr>\n",
              "    <tr>\n",
              "      <th>std</th>\n",
              "      <td>0.822810</td>\n",
              "      <td>4311.153707</td>\n",
              "      <td>0.499060</td>\n",
              "      <td>0.493208</td>\n",
              "      <td>0.269591</td>\n",
              "      <td>0.277421</td>\n",
              "      <td>1.014477</td>\n",
              "      <td>1.013538</td>\n",
              "      <td>0.385942</td>\n",
              "      <td>0.360500</td>\n",
              "      <td>0.362406</td>\n",
              "      <td>0.365713</td>\n",
              "      <td>0.507863</td>\n",
              "      <td>0.435428</td>\n",
              "      <td>0.437187</td>\n",
              "      <td>1.298808</td>\n",
              "      <td>0.607179</td>\n",
              "      <td>0.619533</td>\n",
              "    </tr>\n",
              "    <tr>\n",
              "      <th>min</th>\n",
              "      <td>2016.000000</td>\n",
              "      <td>15.000000</td>\n",
              "      <td>0.000000</td>\n",
              "      <td>0.000000</td>\n",
              "      <td>0.000000</td>\n",
              "      <td>0.000000</td>\n",
              "      <td>-3.030000</td>\n",
              "      <td>-4.410000</td>\n",
              "      <td>0.000000</td>\n",
              "      <td>0.000000</td>\n",
              "      <td>0.000000</td>\n",
              "      <td>0.000000</td>\n",
              "      <td>0.000000</td>\n",
              "      <td>0.000000</td>\n",
              "      <td>0.000000</td>\n",
              "      <td>0.000000</td>\n",
              "      <td>0.000000</td>\n",
              "      <td>0.000000</td>\n",
              "    </tr>\n",
              "    <tr>\n",
              "      <th>25%</th>\n",
              "      <td>2016.000000</td>\n",
              "      <td>3744.000000</td>\n",
              "      <td>0.000000</td>\n",
              "      <td>0.000000</td>\n",
              "      <td>0.000000</td>\n",
              "      <td>0.000000</td>\n",
              "      <td>-0.730000</td>\n",
              "      <td>-0.630000</td>\n",
              "      <td>1.000000</td>\n",
              "      <td>1.000000</td>\n",
              "      <td>1.000000</td>\n",
              "      <td>1.000000</td>\n",
              "      <td>1.000000</td>\n",
              "      <td>0.000000</td>\n",
              "      <td>0.000000</td>\n",
              "      <td>4.000000</td>\n",
              "      <td>1.000000</td>\n",
              "      <td>0.000000</td>\n",
              "    </tr>\n",
              "    <tr>\n",
              "      <th>50%</th>\n",
              "      <td>2017.000000</td>\n",
              "      <td>7461.000000</td>\n",
              "      <td>0.000000</td>\n",
              "      <td>0.000000</td>\n",
              "      <td>0.000000</td>\n",
              "      <td>0.000000</td>\n",
              "      <td>-0.020000</td>\n",
              "      <td>0.100000</td>\n",
              "      <td>1.000000</td>\n",
              "      <td>1.000000</td>\n",
              "      <td>1.000000</td>\n",
              "      <td>1.000000</td>\n",
              "      <td>1.500000</td>\n",
              "      <td>0.000000</td>\n",
              "      <td>0.000000</td>\n",
              "      <td>5.000000</td>\n",
              "      <td>2.000000</td>\n",
              "      <td>0.000000</td>\n",
              "    </tr>\n",
              "    <tr>\n",
              "      <th>75%</th>\n",
              "      <td>2018.000000</td>\n",
              "      <td>11198.000000</td>\n",
              "      <td>1.000000</td>\n",
              "      <td>1.000000</td>\n",
              "      <td>0.000000</td>\n",
              "      <td>0.000000</td>\n",
              "      <td>0.730000</td>\n",
              "      <td>0.710000</td>\n",
              "      <td>1.000000</td>\n",
              "      <td>1.000000</td>\n",
              "      <td>1.000000</td>\n",
              "      <td>1.000000</td>\n",
              "      <td>2.000000</td>\n",
              "      <td>1.000000</td>\n",
              "      <td>1.000000</td>\n",
              "      <td>5.500000</td>\n",
              "      <td>2.000000</td>\n",
              "      <td>1.000000</td>\n",
              "    </tr>\n",
              "    <tr>\n",
              "      <th>max</th>\n",
              "      <td>2018.000000</td>\n",
              "      <td>14900.000000</td>\n",
              "      <td>1.000000</td>\n",
              "      <td>1.000000</td>\n",
              "      <td>1.000000</td>\n",
              "      <td>1.000000</td>\n",
              "      <td>3.340000</td>\n",
              "      <td>2.700000</td>\n",
              "      <td>1.000000</td>\n",
              "      <td>1.000000</td>\n",
              "      <td>1.000000</td>\n",
              "      <td>1.000000</td>\n",
              "      <td>2.000000</td>\n",
              "      <td>1.000000</td>\n",
              "      <td>1.000000</td>\n",
              "      <td>6.000000</td>\n",
              "      <td>2.000000</td>\n",
              "      <td>2.000000</td>\n",
              "    </tr>\n",
              "  </tbody>\n",
              "</table>\n",
              "</div>\n",
              "    <div class=\"colab-df-buttons\">\n",
              "\n",
              "  <div class=\"colab-df-container\">\n",
              "    <button class=\"colab-df-convert\" onclick=\"convertToInteractive('df-070aa905-7237-46db-8880-c01c5c83b592')\"\n",
              "            title=\"Convert this dataframe to an interactive table.\"\n",
              "            style=\"display:none;\">\n",
              "\n",
              "  <svg xmlns=\"http://www.w3.org/2000/svg\" height=\"24px\" viewBox=\"0 -960 960 960\">\n",
              "    <path d=\"M120-120v-720h720v720H120Zm60-500h600v-160H180v160Zm220 220h160v-160H400v160Zm0 220h160v-160H400v160ZM180-400h160v-160H180v160Zm440 0h160v-160H620v160ZM180-180h160v-160H180v160Zm440 0h160v-160H620v160Z\"/>\n",
              "  </svg>\n",
              "    </button>\n",
              "\n",
              "  <style>\n",
              "    .colab-df-container {\n",
              "      display:flex;\n",
              "      gap: 12px;\n",
              "    }\n",
              "\n",
              "    .colab-df-convert {\n",
              "      background-color: #E8F0FE;\n",
              "      border: none;\n",
              "      border-radius: 50%;\n",
              "      cursor: pointer;\n",
              "      display: none;\n",
              "      fill: #1967D2;\n",
              "      height: 32px;\n",
              "      padding: 0 0 0 0;\n",
              "      width: 32px;\n",
              "    }\n",
              "\n",
              "    .colab-df-convert:hover {\n",
              "      background-color: #E2EBFA;\n",
              "      box-shadow: 0px 1px 2px rgba(60, 64, 67, 0.3), 0px 1px 3px 1px rgba(60, 64, 67, 0.15);\n",
              "      fill: #174EA6;\n",
              "    }\n",
              "\n",
              "    .colab-df-buttons div {\n",
              "      margin-bottom: 4px;\n",
              "    }\n",
              "\n",
              "    [theme=dark] .colab-df-convert {\n",
              "      background-color: #3B4455;\n",
              "      fill: #D2E3FC;\n",
              "    }\n",
              "\n",
              "    [theme=dark] .colab-df-convert:hover {\n",
              "      background-color: #434B5C;\n",
              "      box-shadow: 0px 1px 3px 1px rgba(0, 0, 0, 0.15);\n",
              "      filter: drop-shadow(0px 1px 2px rgba(0, 0, 0, 0.3));\n",
              "      fill: #FFFFFF;\n",
              "    }\n",
              "  </style>\n",
              "\n",
              "    <script>\n",
              "      const buttonEl =\n",
              "        document.querySelector('#df-070aa905-7237-46db-8880-c01c5c83b592 button.colab-df-convert');\n",
              "      buttonEl.style.display =\n",
              "        google.colab.kernel.accessAllowed ? 'block' : 'none';\n",
              "\n",
              "      async function convertToInteractive(key) {\n",
              "        const element = document.querySelector('#df-070aa905-7237-46db-8880-c01c5c83b592');\n",
              "        const dataTable =\n",
              "          await google.colab.kernel.invokeFunction('convertToInteractive',\n",
              "                                                    [key], {});\n",
              "        if (!dataTable) return;\n",
              "\n",
              "        const docLinkHtml = 'Like what you see? Visit the ' +\n",
              "          '<a target=\"_blank\" href=https://colab.research.google.com/notebooks/data_table.ipynb>data table notebook</a>'\n",
              "          + ' to learn more about interactive tables.';\n",
              "        element.innerHTML = '';\n",
              "        dataTable['output_type'] = 'display_data';\n",
              "        await google.colab.output.renderOutput(dataTable, element);\n",
              "        const docLink = document.createElement('div');\n",
              "        docLink.innerHTML = docLinkHtml;\n",
              "        element.appendChild(docLink);\n",
              "      }\n",
              "    </script>\n",
              "  </div>\n",
              "\n",
              "\n",
              "<div id=\"df-a1cd2116-65ae-4756-8800-118ccdfceea0\">\n",
              "  <button class=\"colab-df-quickchart\" onclick=\"quickchart('df-a1cd2116-65ae-4756-8800-118ccdfceea0')\"\n",
              "            title=\"Suggest charts\"\n",
              "            style=\"display:none;\">\n",
              "\n",
              "<svg xmlns=\"http://www.w3.org/2000/svg\" height=\"24px\"viewBox=\"0 0 24 24\"\n",
              "     width=\"24px\">\n",
              "    <g>\n",
              "        <path d=\"M19 3H5c-1.1 0-2 .9-2 2v14c0 1.1.9 2 2 2h14c1.1 0 2-.9 2-2V5c0-1.1-.9-2-2-2zM9 17H7v-7h2v7zm4 0h-2V7h2v10zm4 0h-2v-4h2v4z\"/>\n",
              "    </g>\n",
              "</svg>\n",
              "  </button>\n",
              "\n",
              "<style>\n",
              "  .colab-df-quickchart {\n",
              "      --bg-color: #E8F0FE;\n",
              "      --fill-color: #1967D2;\n",
              "      --hover-bg-color: #E2EBFA;\n",
              "      --hover-fill-color: #174EA6;\n",
              "      --disabled-fill-color: #AAA;\n",
              "      --disabled-bg-color: #DDD;\n",
              "  }\n",
              "\n",
              "  [theme=dark] .colab-df-quickchart {\n",
              "      --bg-color: #3B4455;\n",
              "      --fill-color: #D2E3FC;\n",
              "      --hover-bg-color: #434B5C;\n",
              "      --hover-fill-color: #FFFFFF;\n",
              "      --disabled-bg-color: #3B4455;\n",
              "      --disabled-fill-color: #666;\n",
              "  }\n",
              "\n",
              "  .colab-df-quickchart {\n",
              "    background-color: var(--bg-color);\n",
              "    border: none;\n",
              "    border-radius: 50%;\n",
              "    cursor: pointer;\n",
              "    display: none;\n",
              "    fill: var(--fill-color);\n",
              "    height: 32px;\n",
              "    padding: 0;\n",
              "    width: 32px;\n",
              "  }\n",
              "\n",
              "  .colab-df-quickchart:hover {\n",
              "    background-color: var(--hover-bg-color);\n",
              "    box-shadow: 0 1px 2px rgba(60, 64, 67, 0.3), 0 1px 3px 1px rgba(60, 64, 67, 0.15);\n",
              "    fill: var(--button-hover-fill-color);\n",
              "  }\n",
              "\n",
              "  .colab-df-quickchart-complete:disabled,\n",
              "  .colab-df-quickchart-complete:disabled:hover {\n",
              "    background-color: var(--disabled-bg-color);\n",
              "    fill: var(--disabled-fill-color);\n",
              "    box-shadow: none;\n",
              "  }\n",
              "\n",
              "  .colab-df-spinner {\n",
              "    border: 2px solid var(--fill-color);\n",
              "    border-color: transparent;\n",
              "    border-bottom-color: var(--fill-color);\n",
              "    animation:\n",
              "      spin 1s steps(1) infinite;\n",
              "  }\n",
              "\n",
              "  @keyframes spin {\n",
              "    0% {\n",
              "      border-color: transparent;\n",
              "      border-bottom-color: var(--fill-color);\n",
              "      border-left-color: var(--fill-color);\n",
              "    }\n",
              "    20% {\n",
              "      border-color: transparent;\n",
              "      border-left-color: var(--fill-color);\n",
              "      border-top-color: var(--fill-color);\n",
              "    }\n",
              "    30% {\n",
              "      border-color: transparent;\n",
              "      border-left-color: var(--fill-color);\n",
              "      border-top-color: var(--fill-color);\n",
              "      border-right-color: var(--fill-color);\n",
              "    }\n",
              "    40% {\n",
              "      border-color: transparent;\n",
              "      border-right-color: var(--fill-color);\n",
              "      border-top-color: var(--fill-color);\n",
              "    }\n",
              "    60% {\n",
              "      border-color: transparent;\n",
              "      border-right-color: var(--fill-color);\n",
              "    }\n",
              "    80% {\n",
              "      border-color: transparent;\n",
              "      border-right-color: var(--fill-color);\n",
              "      border-bottom-color: var(--fill-color);\n",
              "    }\n",
              "    90% {\n",
              "      border-color: transparent;\n",
              "      border-bottom-color: var(--fill-color);\n",
              "    }\n",
              "  }\n",
              "</style>\n",
              "\n",
              "  <script>\n",
              "    async function quickchart(key) {\n",
              "      const quickchartButtonEl =\n",
              "        document.querySelector('#' + key + ' button');\n",
              "      quickchartButtonEl.disabled = true;  // To prevent multiple clicks.\n",
              "      quickchartButtonEl.classList.add('colab-df-spinner');\n",
              "      try {\n",
              "        const charts = await google.colab.kernel.invokeFunction(\n",
              "            'suggestCharts', [key], {});\n",
              "      } catch (error) {\n",
              "        console.error('Error during call to suggestCharts:', error);\n",
              "      }\n",
              "      quickchartButtonEl.classList.remove('colab-df-spinner');\n",
              "      quickchartButtonEl.classList.add('colab-df-quickchart-complete');\n",
              "    }\n",
              "    (() => {\n",
              "      let quickchartButtonEl =\n",
              "        document.querySelector('#df-a1cd2116-65ae-4756-8800-118ccdfceea0 button');\n",
              "      quickchartButtonEl.style.display =\n",
              "        google.colab.kernel.accessAllowed ? 'block' : 'none';\n",
              "    })();\n",
              "  </script>\n",
              "</div>\n",
              "\n",
              "    </div>\n",
              "  </div>\n"
            ],
            "application/vnd.google.colaboratory.intrinsic+json": {
              "type": "dataframe",
              "summary": "{\n  \"name\": \"df\",\n  \"rows\": 8,\n  \"fields\": [\n    {\n      \"column\": \"8th_CHRT\",\n      \"properties\": {\n        \"dtype\": \"number\",\n        \"std\": 3401.621682863994,\n        \"min\": 0.8228101395372643,\n        \"max\": 11141.0,\n        \"num_unique_values\": 6,\n        \"samples\": [\n          11141.0,\n          2016.9982048290099,\n          2018.0\n        ],\n        \"semantic_type\": \"\",\n        \"description\": \"\"\n      }\n    },\n    {\n      \"column\": \"STU_ID\",\n      \"properties\": {\n        \"dtype\": \"number\",\n        \"std\": 4810.541012704638,\n        \"min\": 15.0,\n        \"max\": 14900.0,\n        \"num_unique_values\": 8,\n        \"samples\": [\n          7467.260658827753,\n          7461.0,\n          11141.0\n        ],\n        \"semantic_type\": \"\",\n        \"description\": \"\"\n      }\n    },\n    {\n      \"column\": \"s_male\",\n      \"properties\": {\n        \"dtype\": \"number\",\n        \"std\": 3938.7884374815653,\n        \"min\": 0.0,\n        \"max\": 11141.0,\n        \"num_unique_values\": 5,\n        \"samples\": [\n          0.46898842114711425,\n          1.0,\n          0.49905975323461327\n        ],\n        \"semantic_type\": \"\",\n        \"description\": \"\"\n      }\n    },\n    {\n      \"column\": \"s_frpl\",\n      \"properties\": {\n        \"dtype\": \"number\",\n        \"std\": 3938.791321583848,\n        \"min\": 0.0,\n        \"max\": 11141.0,\n        \"num_unique_values\": 5,\n        \"samples\": [\n          0.4177362893815636,\n          1.0,\n          0.4932083901230898\n        ],\n        \"semantic_type\": \"\",\n        \"description\": \"\"\n      }\n    },\n    {\n      \"column\": \"s_ell\",\n      \"properties\": {\n        \"dtype\": \"number\",\n        \"std\": 3938.870230474508,\n        \"min\": 0.0,\n        \"max\": 11141.0,\n        \"num_unique_values\": 5,\n        \"samples\": [\n          0.0788977650121174,\n          1.0,\n          0.26959122999189195\n        ],\n        \"semantic_type\": \"\",\n        \"description\": \"\"\n      }\n    },\n    {\n      \"column\": \"s_sped\",\n      \"properties\": {\n        \"dtype\": \"number\",\n        \"std\": 3938.869576590956,\n        \"min\": 0.0,\n        \"max\": 11141.0,\n        \"num_unique_values\": 5,\n        \"samples\": [\n          0.08401400233372229,\n          1.0,\n          0.27742126413298795\n        ],\n        \"semantic_type\": \"\",\n        \"description\": \"\"\n      }\n    },\n    {\n      \"column\": \"std_math_8\",\n      \"properties\": {\n        \"dtype\": \"number\",\n        \"std\": 3057.4646775538417,\n        \"min\": -3.03,\n        \"max\": 8648.0,\n        \"num_unique_values\": 8,\n        \"samples\": [\n          -0.006401480111008329,\n          -0.02,\n          8648.0\n        ],\n        \"semantic_type\": \"\",\n        \"description\": \"\"\n      }\n    },\n    {\n      \"column\": \"std_read_8\",\n      \"properties\": {\n        \"dtype\": \"number\",\n        \"std\": 3054.0212011939843,\n        \"min\": -4.41,\n        \"max\": 8638.0,\n        \"num_unique_values\": 8,\n        \"samples\": [\n          -0.005112294512618662,\n          0.1,\n          8638.0\n        ],\n        \"semantic_type\": \"\",\n        \"description\": \"\"\n      }\n    },\n    {\n      \"column\": \"math_9\",\n      \"properties\": {\n        \"dtype\": \"number\",\n        \"std\": 3937.262244394171,\n        \"min\": 0.0,\n        \"max\": 11137.0,\n        \"num_unique_values\": 5,\n        \"samples\": [\n          0.7990931130466015,\n          1.0,\n          0.3859419968026184\n        ],\n        \"semantic_type\": \"\",\n        \"description\": \"\"\n      }\n    },\n    {\n      \"column\": \"eng_9\",\n      \"properties\": {\n        \"dtype\": \"number\",\n        \"std\": 3937.261967470135,\n        \"min\": 0.0,\n        \"max\": 11137.0,\n        \"num_unique_values\": 5,\n        \"samples\": [\n          0.8300260393283649,\n          1.0,\n          0.36050024267459824\n        ],\n        \"semantic_type\": \"\",\n        \"description\": \"\"\n      }\n    },\n    {\n      \"column\": \"sci_9\",\n      \"properties\": {\n        \"dtype\": \"number\",\n        \"std\": 3937.262025397508,\n        \"min\": 0.0,\n        \"max\": 11137.0,\n        \"num_unique_values\": 5,\n        \"samples\": [\n          0.826973152554548,\n          1.0,\n          0.3624055149569991\n        ],\n        \"semantic_type\": \"\",\n        \"description\": \"\"\n      }\n    },\n    {\n      \"column\": \"ss_9\",\n      \"properties\": {\n        \"dtype\": \"number\",\n        \"std\": 3937.2619421991694,\n        \"min\": 0.0,\n        \"max\": 11137.0,\n        \"num_unique_values\": 5,\n        \"samples\": [\n          0.8253120229864416,\n          1.0,\n          0.3657128898588605\n        ],\n        \"semantic_type\": \"\",\n        \"description\": \"\"\n      }\n    },\n    {\n      \"column\": \"elec_9\",\n      \"properties\": {\n        \"dtype\": \"number\",\n        \"std\": 3937.094220766244,\n        \"min\": 0.0,\n        \"max\": 11137.0,\n        \"num_unique_values\": 7,\n        \"samples\": [\n          11137.0,\n          1.504758911735656,\n          1.5\n        ],\n        \"semantic_type\": \"\",\n        \"description\": \"\"\n      }\n    },\n    {\n      \"column\": \"sum_math_8\",\n      \"properties\": {\n        \"dtype\": \"number\",\n        \"std\": 3938.8025002023815,\n        \"min\": 0.0,\n        \"max\": 11141.0,\n        \"num_unique_values\": 5,\n        \"samples\": [\n          0.254196212189211,\n          1.0,\n          0.4354279686651795\n        ],\n        \"semantic_type\": \"\",\n        \"description\": \"\"\n      }\n    },\n    {\n      \"column\": \"sum_eng_8\",\n      \"properties\": {\n        \"dtype\": \"number\",\n        \"std\": 3938.802252690439,\n        \"min\": 0.0,\n        \"max\": 11141.0,\n        \"num_unique_values\": 5,\n        \"samples\": [\n          0.25733776142177545,\n          1.0,\n          0.4371866806258808\n        ],\n        \"semantic_type\": \"\",\n        \"description\": \"\"\n      }\n    },\n    {\n      \"column\": \"total_9\",\n      \"properties\": {\n        \"dtype\": \"number\",\n        \"std\": 3937.59622764636,\n        \"min\": 0.0,\n        \"max\": 11141.0,\n        \"num_unique_values\": 8,\n        \"samples\": [\n          4.784444843371331,\n          5.0,\n          11141.0\n        ],\n        \"semantic_type\": \"\",\n        \"description\": \"\"\n      }\n    },\n    {\n      \"column\": \"eng_math_9\",\n      \"properties\": {\n        \"dtype\": \"number\",\n        \"std\": 3938.4719202106244,\n        \"min\": 0.0,\n        \"max\": 11141.0,\n        \"num_unique_values\": 6,\n        \"samples\": [\n          11141.0,\n          1.628534242886635,\n          2.0\n        ],\n        \"semantic_type\": \"\",\n        \"description\": \"\"\n      }\n    },\n    {\n      \"column\": \"sum_eng_math\",\n      \"properties\": {\n        \"dtype\": \"number\",\n        \"std\": 3938.729732375721,\n        \"min\": 0.0,\n        \"max\": 11141.0,\n        \"num_unique_values\": 6,\n        \"samples\": [\n          11141.0,\n          0.5115339736109864,\n          2.0\n        ],\n        \"semantic_type\": \"\",\n        \"description\": \"\"\n      }\n    }\n  ]\n}"
            }
          },
          "metadata": {},
          "execution_count": 242
        }
      ]
    },
    {
      "cell_type": "markdown",
      "source": [
        "# Checking for Missing values & Data Cleaning\n"
      ],
      "metadata": {
        "id": "tcnFbTbDtY48"
      }
    },
    {
      "cell_type": "code",
      "source": [
        "# To check for missing values\n",
        "df.isnull().values.any()"
      ],
      "metadata": {
        "colab": {
          "base_uri": "https://localhost:8080/"
        },
        "id": "hg53pUCttXkv",
        "outputId": "d759b40f-3917-40c1-8a9f-148c366aad66"
      },
      "execution_count": 243,
      "outputs": [
        {
          "output_type": "execute_result",
          "data": {
            "text/plain": [
              "True"
            ]
          },
          "metadata": {},
          "execution_count": 243
        }
      ]
    },
    {
      "cell_type": "code",
      "source": [
        "# To see what the missing values are\n",
        "df.isna().sum()"
      ],
      "metadata": {
        "colab": {
          "base_uri": "https://localhost:8080/",
          "height": 711
        },
        "id": "CyxGYAE_tb6F",
        "outputId": "4bd80c1a-044a-4e86-882a-8d883cd7dec0"
      },
      "execution_count": 244,
      "outputs": [
        {
          "output_type": "execute_result",
          "data": {
            "text/plain": [
              "8th_CHRT           0\n",
              "HS_Name            0\n",
              "STU_ID             0\n",
              "s_male             0\n",
              "s_frpl             0\n",
              "s_ell              0\n",
              "s_sped             0\n",
              "std_math_8      2493\n",
              "std_read_8      2503\n",
              "math_9             4\n",
              "eng_9              4\n",
              "sci_9              4\n",
              "ss_9               4\n",
              "elec_9             4\n",
              "sum_math_8         0\n",
              "sum_eng_8          0\n",
              "total_9            0\n",
              "eng_math_9         0\n",
              "sum_eng_math       0\n",
              "Track Status       0\n",
              "dtype: int64"
            ],
            "text/html": [
              "<div>\n",
              "<style scoped>\n",
              "    .dataframe tbody tr th:only-of-type {\n",
              "        vertical-align: middle;\n",
              "    }\n",
              "\n",
              "    .dataframe tbody tr th {\n",
              "        vertical-align: top;\n",
              "    }\n",
              "\n",
              "    .dataframe thead th {\n",
              "        text-align: right;\n",
              "    }\n",
              "</style>\n",
              "<table border=\"1\" class=\"dataframe\">\n",
              "  <thead>\n",
              "    <tr style=\"text-align: right;\">\n",
              "      <th></th>\n",
              "      <th>0</th>\n",
              "    </tr>\n",
              "  </thead>\n",
              "  <tbody>\n",
              "    <tr>\n",
              "      <th>8th_CHRT</th>\n",
              "      <td>0</td>\n",
              "    </tr>\n",
              "    <tr>\n",
              "      <th>HS_Name</th>\n",
              "      <td>0</td>\n",
              "    </tr>\n",
              "    <tr>\n",
              "      <th>STU_ID</th>\n",
              "      <td>0</td>\n",
              "    </tr>\n",
              "    <tr>\n",
              "      <th>s_male</th>\n",
              "      <td>0</td>\n",
              "    </tr>\n",
              "    <tr>\n",
              "      <th>s_frpl</th>\n",
              "      <td>0</td>\n",
              "    </tr>\n",
              "    <tr>\n",
              "      <th>s_ell</th>\n",
              "      <td>0</td>\n",
              "    </tr>\n",
              "    <tr>\n",
              "      <th>s_sped</th>\n",
              "      <td>0</td>\n",
              "    </tr>\n",
              "    <tr>\n",
              "      <th>std_math_8</th>\n",
              "      <td>2493</td>\n",
              "    </tr>\n",
              "    <tr>\n",
              "      <th>std_read_8</th>\n",
              "      <td>2503</td>\n",
              "    </tr>\n",
              "    <tr>\n",
              "      <th>math_9</th>\n",
              "      <td>4</td>\n",
              "    </tr>\n",
              "    <tr>\n",
              "      <th>eng_9</th>\n",
              "      <td>4</td>\n",
              "    </tr>\n",
              "    <tr>\n",
              "      <th>sci_9</th>\n",
              "      <td>4</td>\n",
              "    </tr>\n",
              "    <tr>\n",
              "      <th>ss_9</th>\n",
              "      <td>4</td>\n",
              "    </tr>\n",
              "    <tr>\n",
              "      <th>elec_9</th>\n",
              "      <td>4</td>\n",
              "    </tr>\n",
              "    <tr>\n",
              "      <th>sum_math_8</th>\n",
              "      <td>0</td>\n",
              "    </tr>\n",
              "    <tr>\n",
              "      <th>sum_eng_8</th>\n",
              "      <td>0</td>\n",
              "    </tr>\n",
              "    <tr>\n",
              "      <th>total_9</th>\n",
              "      <td>0</td>\n",
              "    </tr>\n",
              "    <tr>\n",
              "      <th>eng_math_9</th>\n",
              "      <td>0</td>\n",
              "    </tr>\n",
              "    <tr>\n",
              "      <th>sum_eng_math</th>\n",
              "      <td>0</td>\n",
              "    </tr>\n",
              "    <tr>\n",
              "      <th>Track Status</th>\n",
              "      <td>0</td>\n",
              "    </tr>\n",
              "  </tbody>\n",
              "</table>\n",
              "</div><br><label><b>dtype:</b> int64</label>"
            ]
          },
          "metadata": {},
          "execution_count": 244
        }
      ]
    },
    {
      "cell_type": "code",
      "source": [
        "# Removing rows with missing values\n",
        "df = df.dropna()\n",
        "\n",
        "# Verifying\n",
        "print(df.isna().sum())"
      ],
      "metadata": {
        "colab": {
          "base_uri": "https://localhost:8080/"
        },
        "id": "VszVgIVRtd3o",
        "outputId": "81f7e50a-bc12-4290-9f62-1b139c4cc82f"
      },
      "execution_count": 245,
      "outputs": [
        {
          "output_type": "stream",
          "name": "stdout",
          "text": [
            "8th_CHRT        0\n",
            "HS_Name         0\n",
            "STU_ID          0\n",
            "s_male          0\n",
            "s_frpl          0\n",
            "s_ell           0\n",
            "s_sped          0\n",
            "std_math_8      0\n",
            "std_read_8      0\n",
            "math_9          0\n",
            "eng_9           0\n",
            "sci_9           0\n",
            "ss_9            0\n",
            "elec_9          0\n",
            "sum_math_8      0\n",
            "sum_eng_8       0\n",
            "total_9         0\n",
            "eng_math_9      0\n",
            "sum_eng_math    0\n",
            "Track Status    0\n",
            "dtype: int64\n"
          ]
        }
      ]
    },
    {
      "cell_type": "code",
      "source": [
        "#Saving the new file\n",
        "df.to_excel('cleaned_data.xlsx', index=False)"
      ],
      "metadata": {
        "id": "C3bGIdZjtldz"
      },
      "execution_count": 246,
      "outputs": []
    },
    {
      "cell_type": "markdown",
      "source": [
        "### Went back to Excel to create new columns - total_9, Track Status\n",
        "\n",
        "* total_9 =J2+K2+L2+M2+N2 (Sum of all courses)\n",
        "* Track Status =IF(Q2 >= 6, \"On Track\", \"Not On Track\")\n",
        "  ; where Q2 = total_9\n"
      ],
      "metadata": {
        "id": "LoijnZRNuJA1"
      }
    },
    {
      "cell_type": "markdown",
      "source": [
        "## Checking Students that are on track for High School based on their Total Credits"
      ],
      "metadata": {
        "id": "bdWXVHrKtO25"
      }
    },
    {
      "cell_type": "code",
      "source": [
        "# Filtering students based on the Total 9th grade credits\n",
        "on_track_students = df[df['total_9'] >= 6]\n",
        "\n",
        "# Students who are on track\n",
        "count_on_track = on_track_students.shape[0]\n",
        "print('Number of students on track:', count_on_track)\n",
        "\n",
        "# Students who are not on track\n",
        "not_on_track_students = df[df['total_9'] < 6]\n",
        "\n",
        "# Count the number of students who are not on track\n",
        "count_not_on_track = not_on_track_students.shape[0]\n",
        "print('\\nNumber of students not on track:', count_not_on_track)"
      ],
      "metadata": {
        "colab": {
          "base_uri": "https://localhost:8080/"
        },
        "id": "S51mkEUjtJKt",
        "outputId": "216a9f6f-1f52-483a-b4ea-66f98ab14278"
      },
      "execution_count": 247,
      "outputs": [
        {
          "output_type": "stream",
          "name": "stdout",
          "text": [
            "Number of students on track: 1966\n",
            "\n",
            "Number of students not on track: 6663\n"
          ]
        }
      ]
    },
    {
      "cell_type": "markdown",
      "source": [
        "## Checking the Stats of Math & Eng Credits\n"
      ],
      "metadata": {
        "id": "FMQoW8YdtuNs"
      }
    },
    {
      "cell_type": "code",
      "source": [
        "# To see the basic stats of the credit columns\n",
        "credit_columns = ['total_9', 'math_9', 'eng_9']\n",
        "\n",
        "# Descriptive statistics\n",
        "stats = df[credit_columns].describe()\n",
        "\n",
        "stats"
      ],
      "metadata": {
        "colab": {
          "base_uri": "https://localhost:8080/",
          "height": 300
        },
        "id": "3H2qIsdlfonU",
        "outputId": "90e4a6b4-c391-4c7e-ac12-c7666ed02ab3"
      },
      "execution_count": 248,
      "outputs": [
        {
          "output_type": "execute_result",
          "data": {
            "text/plain": [
              "           total_9       math_9        eng_9\n",
              "count  8629.000000  8629.000000  8629.000000\n",
              "mean      4.727373     0.787809     0.813710\n",
              "std       1.344036     0.394529     0.374223\n",
              "min       0.000000     0.000000     0.000000\n",
              "25%       4.000000     1.000000     1.000000\n",
              "50%       5.000000     1.000000     1.000000\n",
              "75%       5.500000     1.000000     1.000000\n",
              "max       6.000000     1.000000     1.000000"
            ],
            "text/html": [
              "\n",
              "  <div id=\"df-7e4eb62e-3027-4415-a2e6-16e18b307e87\" class=\"colab-df-container\">\n",
              "    <div>\n",
              "<style scoped>\n",
              "    .dataframe tbody tr th:only-of-type {\n",
              "        vertical-align: middle;\n",
              "    }\n",
              "\n",
              "    .dataframe tbody tr th {\n",
              "        vertical-align: top;\n",
              "    }\n",
              "\n",
              "    .dataframe thead th {\n",
              "        text-align: right;\n",
              "    }\n",
              "</style>\n",
              "<table border=\"1\" class=\"dataframe\">\n",
              "  <thead>\n",
              "    <tr style=\"text-align: right;\">\n",
              "      <th></th>\n",
              "      <th>total_9</th>\n",
              "      <th>math_9</th>\n",
              "      <th>eng_9</th>\n",
              "    </tr>\n",
              "  </thead>\n",
              "  <tbody>\n",
              "    <tr>\n",
              "      <th>count</th>\n",
              "      <td>8629.000000</td>\n",
              "      <td>8629.000000</td>\n",
              "      <td>8629.000000</td>\n",
              "    </tr>\n",
              "    <tr>\n",
              "      <th>mean</th>\n",
              "      <td>4.727373</td>\n",
              "      <td>0.787809</td>\n",
              "      <td>0.813710</td>\n",
              "    </tr>\n",
              "    <tr>\n",
              "      <th>std</th>\n",
              "      <td>1.344036</td>\n",
              "      <td>0.394529</td>\n",
              "      <td>0.374223</td>\n",
              "    </tr>\n",
              "    <tr>\n",
              "      <th>min</th>\n",
              "      <td>0.000000</td>\n",
              "      <td>0.000000</td>\n",
              "      <td>0.000000</td>\n",
              "    </tr>\n",
              "    <tr>\n",
              "      <th>25%</th>\n",
              "      <td>4.000000</td>\n",
              "      <td>1.000000</td>\n",
              "      <td>1.000000</td>\n",
              "    </tr>\n",
              "    <tr>\n",
              "      <th>50%</th>\n",
              "      <td>5.000000</td>\n",
              "      <td>1.000000</td>\n",
              "      <td>1.000000</td>\n",
              "    </tr>\n",
              "    <tr>\n",
              "      <th>75%</th>\n",
              "      <td>5.500000</td>\n",
              "      <td>1.000000</td>\n",
              "      <td>1.000000</td>\n",
              "    </tr>\n",
              "    <tr>\n",
              "      <th>max</th>\n",
              "      <td>6.000000</td>\n",
              "      <td>1.000000</td>\n",
              "      <td>1.000000</td>\n",
              "    </tr>\n",
              "  </tbody>\n",
              "</table>\n",
              "</div>\n",
              "    <div class=\"colab-df-buttons\">\n",
              "\n",
              "  <div class=\"colab-df-container\">\n",
              "    <button class=\"colab-df-convert\" onclick=\"convertToInteractive('df-7e4eb62e-3027-4415-a2e6-16e18b307e87')\"\n",
              "            title=\"Convert this dataframe to an interactive table.\"\n",
              "            style=\"display:none;\">\n",
              "\n",
              "  <svg xmlns=\"http://www.w3.org/2000/svg\" height=\"24px\" viewBox=\"0 -960 960 960\">\n",
              "    <path d=\"M120-120v-720h720v720H120Zm60-500h600v-160H180v160Zm220 220h160v-160H400v160Zm0 220h160v-160H400v160ZM180-400h160v-160H180v160Zm440 0h160v-160H620v160ZM180-180h160v-160H180v160Zm440 0h160v-160H620v160Z\"/>\n",
              "  </svg>\n",
              "    </button>\n",
              "\n",
              "  <style>\n",
              "    .colab-df-container {\n",
              "      display:flex;\n",
              "      gap: 12px;\n",
              "    }\n",
              "\n",
              "    .colab-df-convert {\n",
              "      background-color: #E8F0FE;\n",
              "      border: none;\n",
              "      border-radius: 50%;\n",
              "      cursor: pointer;\n",
              "      display: none;\n",
              "      fill: #1967D2;\n",
              "      height: 32px;\n",
              "      padding: 0 0 0 0;\n",
              "      width: 32px;\n",
              "    }\n",
              "\n",
              "    .colab-df-convert:hover {\n",
              "      background-color: #E2EBFA;\n",
              "      box-shadow: 0px 1px 2px rgba(60, 64, 67, 0.3), 0px 1px 3px 1px rgba(60, 64, 67, 0.15);\n",
              "      fill: #174EA6;\n",
              "    }\n",
              "\n",
              "    .colab-df-buttons div {\n",
              "      margin-bottom: 4px;\n",
              "    }\n",
              "\n",
              "    [theme=dark] .colab-df-convert {\n",
              "      background-color: #3B4455;\n",
              "      fill: #D2E3FC;\n",
              "    }\n",
              "\n",
              "    [theme=dark] .colab-df-convert:hover {\n",
              "      background-color: #434B5C;\n",
              "      box-shadow: 0px 1px 3px 1px rgba(0, 0, 0, 0.15);\n",
              "      filter: drop-shadow(0px 1px 2px rgba(0, 0, 0, 0.3));\n",
              "      fill: #FFFFFF;\n",
              "    }\n",
              "  </style>\n",
              "\n",
              "    <script>\n",
              "      const buttonEl =\n",
              "        document.querySelector('#df-7e4eb62e-3027-4415-a2e6-16e18b307e87 button.colab-df-convert');\n",
              "      buttonEl.style.display =\n",
              "        google.colab.kernel.accessAllowed ? 'block' : 'none';\n",
              "\n",
              "      async function convertToInteractive(key) {\n",
              "        const element = document.querySelector('#df-7e4eb62e-3027-4415-a2e6-16e18b307e87');\n",
              "        const dataTable =\n",
              "          await google.colab.kernel.invokeFunction('convertToInteractive',\n",
              "                                                    [key], {});\n",
              "        if (!dataTable) return;\n",
              "\n",
              "        const docLinkHtml = 'Like what you see? Visit the ' +\n",
              "          '<a target=\"_blank\" href=https://colab.research.google.com/notebooks/data_table.ipynb>data table notebook</a>'\n",
              "          + ' to learn more about interactive tables.';\n",
              "        element.innerHTML = '';\n",
              "        dataTable['output_type'] = 'display_data';\n",
              "        await google.colab.output.renderOutput(dataTable, element);\n",
              "        const docLink = document.createElement('div');\n",
              "        docLink.innerHTML = docLinkHtml;\n",
              "        element.appendChild(docLink);\n",
              "      }\n",
              "    </script>\n",
              "  </div>\n",
              "\n",
              "\n",
              "<div id=\"df-bd36f4e0-28a5-472e-bf56-8fb5b32887ab\">\n",
              "  <button class=\"colab-df-quickchart\" onclick=\"quickchart('df-bd36f4e0-28a5-472e-bf56-8fb5b32887ab')\"\n",
              "            title=\"Suggest charts\"\n",
              "            style=\"display:none;\">\n",
              "\n",
              "<svg xmlns=\"http://www.w3.org/2000/svg\" height=\"24px\"viewBox=\"0 0 24 24\"\n",
              "     width=\"24px\">\n",
              "    <g>\n",
              "        <path d=\"M19 3H5c-1.1 0-2 .9-2 2v14c0 1.1.9 2 2 2h14c1.1 0 2-.9 2-2V5c0-1.1-.9-2-2-2zM9 17H7v-7h2v7zm4 0h-2V7h2v10zm4 0h-2v-4h2v4z\"/>\n",
              "    </g>\n",
              "</svg>\n",
              "  </button>\n",
              "\n",
              "<style>\n",
              "  .colab-df-quickchart {\n",
              "      --bg-color: #E8F0FE;\n",
              "      --fill-color: #1967D2;\n",
              "      --hover-bg-color: #E2EBFA;\n",
              "      --hover-fill-color: #174EA6;\n",
              "      --disabled-fill-color: #AAA;\n",
              "      --disabled-bg-color: #DDD;\n",
              "  }\n",
              "\n",
              "  [theme=dark] .colab-df-quickchart {\n",
              "      --bg-color: #3B4455;\n",
              "      --fill-color: #D2E3FC;\n",
              "      --hover-bg-color: #434B5C;\n",
              "      --hover-fill-color: #FFFFFF;\n",
              "      --disabled-bg-color: #3B4455;\n",
              "      --disabled-fill-color: #666;\n",
              "  }\n",
              "\n",
              "  .colab-df-quickchart {\n",
              "    background-color: var(--bg-color);\n",
              "    border: none;\n",
              "    border-radius: 50%;\n",
              "    cursor: pointer;\n",
              "    display: none;\n",
              "    fill: var(--fill-color);\n",
              "    height: 32px;\n",
              "    padding: 0;\n",
              "    width: 32px;\n",
              "  }\n",
              "\n",
              "  .colab-df-quickchart:hover {\n",
              "    background-color: var(--hover-bg-color);\n",
              "    box-shadow: 0 1px 2px rgba(60, 64, 67, 0.3), 0 1px 3px 1px rgba(60, 64, 67, 0.15);\n",
              "    fill: var(--button-hover-fill-color);\n",
              "  }\n",
              "\n",
              "  .colab-df-quickchart-complete:disabled,\n",
              "  .colab-df-quickchart-complete:disabled:hover {\n",
              "    background-color: var(--disabled-bg-color);\n",
              "    fill: var(--disabled-fill-color);\n",
              "    box-shadow: none;\n",
              "  }\n",
              "\n",
              "  .colab-df-spinner {\n",
              "    border: 2px solid var(--fill-color);\n",
              "    border-color: transparent;\n",
              "    border-bottom-color: var(--fill-color);\n",
              "    animation:\n",
              "      spin 1s steps(1) infinite;\n",
              "  }\n",
              "\n",
              "  @keyframes spin {\n",
              "    0% {\n",
              "      border-color: transparent;\n",
              "      border-bottom-color: var(--fill-color);\n",
              "      border-left-color: var(--fill-color);\n",
              "    }\n",
              "    20% {\n",
              "      border-color: transparent;\n",
              "      border-left-color: var(--fill-color);\n",
              "      border-top-color: var(--fill-color);\n",
              "    }\n",
              "    30% {\n",
              "      border-color: transparent;\n",
              "      border-left-color: var(--fill-color);\n",
              "      border-top-color: var(--fill-color);\n",
              "      border-right-color: var(--fill-color);\n",
              "    }\n",
              "    40% {\n",
              "      border-color: transparent;\n",
              "      border-right-color: var(--fill-color);\n",
              "      border-top-color: var(--fill-color);\n",
              "    }\n",
              "    60% {\n",
              "      border-color: transparent;\n",
              "      border-right-color: var(--fill-color);\n",
              "    }\n",
              "    80% {\n",
              "      border-color: transparent;\n",
              "      border-right-color: var(--fill-color);\n",
              "      border-bottom-color: var(--fill-color);\n",
              "    }\n",
              "    90% {\n",
              "      border-color: transparent;\n",
              "      border-bottom-color: var(--fill-color);\n",
              "    }\n",
              "  }\n",
              "</style>\n",
              "\n",
              "  <script>\n",
              "    async function quickchart(key) {\n",
              "      const quickchartButtonEl =\n",
              "        document.querySelector('#' + key + ' button');\n",
              "      quickchartButtonEl.disabled = true;  // To prevent multiple clicks.\n",
              "      quickchartButtonEl.classList.add('colab-df-spinner');\n",
              "      try {\n",
              "        const charts = await google.colab.kernel.invokeFunction(\n",
              "            'suggestCharts', [key], {});\n",
              "      } catch (error) {\n",
              "        console.error('Error during call to suggestCharts:', error);\n",
              "      }\n",
              "      quickchartButtonEl.classList.remove('colab-df-spinner');\n",
              "      quickchartButtonEl.classList.add('colab-df-quickchart-complete');\n",
              "    }\n",
              "    (() => {\n",
              "      let quickchartButtonEl =\n",
              "        document.querySelector('#df-bd36f4e0-28a5-472e-bf56-8fb5b32887ab button');\n",
              "      quickchartButtonEl.style.display =\n",
              "        google.colab.kernel.accessAllowed ? 'block' : 'none';\n",
              "    })();\n",
              "  </script>\n",
              "</div>\n",
              "\n",
              "  <div id=\"id_84a5b7eb-ae32-4136-929e-53be0e75cce7\">\n",
              "    <style>\n",
              "      .colab-df-generate {\n",
              "        background-color: #E8F0FE;\n",
              "        border: none;\n",
              "        border-radius: 50%;\n",
              "        cursor: pointer;\n",
              "        display: none;\n",
              "        fill: #1967D2;\n",
              "        height: 32px;\n",
              "        padding: 0 0 0 0;\n",
              "        width: 32px;\n",
              "      }\n",
              "\n",
              "      .colab-df-generate:hover {\n",
              "        background-color: #E2EBFA;\n",
              "        box-shadow: 0px 1px 2px rgba(60, 64, 67, 0.3), 0px 1px 3px 1px rgba(60, 64, 67, 0.15);\n",
              "        fill: #174EA6;\n",
              "      }\n",
              "\n",
              "      [theme=dark] .colab-df-generate {\n",
              "        background-color: #3B4455;\n",
              "        fill: #D2E3FC;\n",
              "      }\n",
              "\n",
              "      [theme=dark] .colab-df-generate:hover {\n",
              "        background-color: #434B5C;\n",
              "        box-shadow: 0px 1px 3px 1px rgba(0, 0, 0, 0.15);\n",
              "        filter: drop-shadow(0px 1px 2px rgba(0, 0, 0, 0.3));\n",
              "        fill: #FFFFFF;\n",
              "      }\n",
              "    </style>\n",
              "    <button class=\"colab-df-generate\" onclick=\"generateWithVariable('stats')\"\n",
              "            title=\"Generate code using this dataframe.\"\n",
              "            style=\"display:none;\">\n",
              "\n",
              "  <svg xmlns=\"http://www.w3.org/2000/svg\" height=\"24px\"viewBox=\"0 0 24 24\"\n",
              "       width=\"24px\">\n",
              "    <path d=\"M7,19H8.4L18.45,9,17,7.55,7,17.6ZM5,21V16.75L18.45,3.32a2,2,0,0,1,2.83,0l1.4,1.43a1.91,1.91,0,0,1,.58,1.4,1.91,1.91,0,0,1-.58,1.4L9.25,21ZM18.45,9,17,7.55Zm-12,3A5.31,5.31,0,0,0,4.9,8.1,5.31,5.31,0,0,0,1,6.5,5.31,5.31,0,0,0,4.9,4.9,5.31,5.31,0,0,0,6.5,1,5.31,5.31,0,0,0,8.1,4.9,5.31,5.31,0,0,0,12,6.5,5.46,5.46,0,0,0,6.5,12Z\"/>\n",
              "  </svg>\n",
              "    </button>\n",
              "    <script>\n",
              "      (() => {\n",
              "      const buttonEl =\n",
              "        document.querySelector('#id_84a5b7eb-ae32-4136-929e-53be0e75cce7 button.colab-df-generate');\n",
              "      buttonEl.style.display =\n",
              "        google.colab.kernel.accessAllowed ? 'block' : 'none';\n",
              "\n",
              "      buttonEl.onclick = () => {\n",
              "        google.colab.notebook.generateWithVariable('stats');\n",
              "      }\n",
              "      })();\n",
              "    </script>\n",
              "  </div>\n",
              "\n",
              "    </div>\n",
              "  </div>\n"
            ],
            "application/vnd.google.colaboratory.intrinsic+json": {
              "type": "dataframe",
              "variable_name": "stats",
              "summary": "{\n  \"name\": \"stats\",\n  \"rows\": 8,\n  \"fields\": [\n    {\n      \"column\": \"total_9\",\n      \"properties\": {\n        \"dtype\": \"number\",\n        \"std\": 3049.47086401989,\n        \"min\": 0.0,\n        \"max\": 8629.0,\n        \"num_unique_values\": 8,\n        \"samples\": [\n          4.727372812608645,\n          5.0,\n          8629.0\n        ],\n        \"semantic_type\": \"\",\n        \"description\": \"\"\n      }\n    },\n    {\n      \"column\": \"math_9\",\n      \"properties\": {\n        \"dtype\": \"number\",\n        \"std\": 3050.550481841012,\n        \"min\": 0.0,\n        \"max\": 8629.0,\n        \"num_unique_values\": 5,\n        \"samples\": [\n          0.7878085525553367,\n          1.0,\n          0.39452932876119734\n        ],\n        \"semantic_type\": \"\",\n        \"description\": \"\"\n      }\n    },\n    {\n      \"column\": \"eng_9\",\n      \"properties\": {\n        \"dtype\": \"number\",\n        \"std\": 3050.5501996899484,\n        \"min\": 0.0,\n        \"max\": 8629.0,\n        \"num_unique_values\": 5,\n        \"samples\": [\n          0.8137095839610615,\n          1.0,\n          0.3742227544352595\n        ],\n        \"semantic_type\": \"\",\n        \"description\": \"\"\n      }\n    }\n  ]\n}"
            }
          },
          "metadata": {},
          "execution_count": 248
        }
      ]
    },
    {
      "cell_type": "markdown",
      "source": [],
      "metadata": {
        "id": "3dIgfXn1Ndc9"
      }
    },
    {
      "cell_type": "markdown",
      "source": [
        "\n"
      ],
      "metadata": {
        "id": "EoJICVzQjMHM"
      }
    },
    {
      "cell_type": "markdown",
      "source": [
        "# Comparison by Group\n",
        "\n",
        "#### ## Checking the Stats of Math & Eng Credits by Summer Programs\n",
        "\n"
      ],
      "metadata": {
        "id": "mZeTfAWfnwSj"
      }
    },
    {
      "cell_type": "code",
      "source": [
        "## Math\n",
        "\n",
        "df.groupby('sum_math_8')['math_9'].describe()"
      ],
      "metadata": {
        "colab": {
          "base_uri": "https://localhost:8080/",
          "height": 143
        },
        "id": "O79SinvlvsGr",
        "outputId": "ee0a8c1f-4c9b-46ed-dfdd-38fd3ad1892e"
      },
      "execution_count": 249,
      "outputs": [
        {
          "output_type": "execute_result",
          "data": {
            "text/plain": [
              "             count      mean       std  min  25%  50%  75%  max\n",
              "sum_math_8                                                     \n",
              "0           6399.0  0.778794  0.400869  0.0  1.0  1.0  1.0  1.0\n",
              "1           2230.0  0.813677  0.374629  0.0  1.0  1.0  1.0  1.0"
            ],
            "text/html": [
              "\n",
              "  <div id=\"df-96f129b5-8505-4bbc-86be-6ed58351b7fe\" class=\"colab-df-container\">\n",
              "    <div>\n",
              "<style scoped>\n",
              "    .dataframe tbody tr th:only-of-type {\n",
              "        vertical-align: middle;\n",
              "    }\n",
              "\n",
              "    .dataframe tbody tr th {\n",
              "        vertical-align: top;\n",
              "    }\n",
              "\n",
              "    .dataframe thead th {\n",
              "        text-align: right;\n",
              "    }\n",
              "</style>\n",
              "<table border=\"1\" class=\"dataframe\">\n",
              "  <thead>\n",
              "    <tr style=\"text-align: right;\">\n",
              "      <th></th>\n",
              "      <th>count</th>\n",
              "      <th>mean</th>\n",
              "      <th>std</th>\n",
              "      <th>min</th>\n",
              "      <th>25%</th>\n",
              "      <th>50%</th>\n",
              "      <th>75%</th>\n",
              "      <th>max</th>\n",
              "    </tr>\n",
              "    <tr>\n",
              "      <th>sum_math_8</th>\n",
              "      <th></th>\n",
              "      <th></th>\n",
              "      <th></th>\n",
              "      <th></th>\n",
              "      <th></th>\n",
              "      <th></th>\n",
              "      <th></th>\n",
              "      <th></th>\n",
              "    </tr>\n",
              "  </thead>\n",
              "  <tbody>\n",
              "    <tr>\n",
              "      <th>0</th>\n",
              "      <td>6399.0</td>\n",
              "      <td>0.778794</td>\n",
              "      <td>0.400869</td>\n",
              "      <td>0.0</td>\n",
              "      <td>1.0</td>\n",
              "      <td>1.0</td>\n",
              "      <td>1.0</td>\n",
              "      <td>1.0</td>\n",
              "    </tr>\n",
              "    <tr>\n",
              "      <th>1</th>\n",
              "      <td>2230.0</td>\n",
              "      <td>0.813677</td>\n",
              "      <td>0.374629</td>\n",
              "      <td>0.0</td>\n",
              "      <td>1.0</td>\n",
              "      <td>1.0</td>\n",
              "      <td>1.0</td>\n",
              "      <td>1.0</td>\n",
              "    </tr>\n",
              "  </tbody>\n",
              "</table>\n",
              "</div>\n",
              "    <div class=\"colab-df-buttons\">\n",
              "\n",
              "  <div class=\"colab-df-container\">\n",
              "    <button class=\"colab-df-convert\" onclick=\"convertToInteractive('df-96f129b5-8505-4bbc-86be-6ed58351b7fe')\"\n",
              "            title=\"Convert this dataframe to an interactive table.\"\n",
              "            style=\"display:none;\">\n",
              "\n",
              "  <svg xmlns=\"http://www.w3.org/2000/svg\" height=\"24px\" viewBox=\"0 -960 960 960\">\n",
              "    <path d=\"M120-120v-720h720v720H120Zm60-500h600v-160H180v160Zm220 220h160v-160H400v160Zm0 220h160v-160H400v160ZM180-400h160v-160H180v160Zm440 0h160v-160H620v160ZM180-180h160v-160H180v160Zm440 0h160v-160H620v160Z\"/>\n",
              "  </svg>\n",
              "    </button>\n",
              "\n",
              "  <style>\n",
              "    .colab-df-container {\n",
              "      display:flex;\n",
              "      gap: 12px;\n",
              "    }\n",
              "\n",
              "    .colab-df-convert {\n",
              "      background-color: #E8F0FE;\n",
              "      border: none;\n",
              "      border-radius: 50%;\n",
              "      cursor: pointer;\n",
              "      display: none;\n",
              "      fill: #1967D2;\n",
              "      height: 32px;\n",
              "      padding: 0 0 0 0;\n",
              "      width: 32px;\n",
              "    }\n",
              "\n",
              "    .colab-df-convert:hover {\n",
              "      background-color: #E2EBFA;\n",
              "      box-shadow: 0px 1px 2px rgba(60, 64, 67, 0.3), 0px 1px 3px 1px rgba(60, 64, 67, 0.15);\n",
              "      fill: #174EA6;\n",
              "    }\n",
              "\n",
              "    .colab-df-buttons div {\n",
              "      margin-bottom: 4px;\n",
              "    }\n",
              "\n",
              "    [theme=dark] .colab-df-convert {\n",
              "      background-color: #3B4455;\n",
              "      fill: #D2E3FC;\n",
              "    }\n",
              "\n",
              "    [theme=dark] .colab-df-convert:hover {\n",
              "      background-color: #434B5C;\n",
              "      box-shadow: 0px 1px 3px 1px rgba(0, 0, 0, 0.15);\n",
              "      filter: drop-shadow(0px 1px 2px rgba(0, 0, 0, 0.3));\n",
              "      fill: #FFFFFF;\n",
              "    }\n",
              "  </style>\n",
              "\n",
              "    <script>\n",
              "      const buttonEl =\n",
              "        document.querySelector('#df-96f129b5-8505-4bbc-86be-6ed58351b7fe button.colab-df-convert');\n",
              "      buttonEl.style.display =\n",
              "        google.colab.kernel.accessAllowed ? 'block' : 'none';\n",
              "\n",
              "      async function convertToInteractive(key) {\n",
              "        const element = document.querySelector('#df-96f129b5-8505-4bbc-86be-6ed58351b7fe');\n",
              "        const dataTable =\n",
              "          await google.colab.kernel.invokeFunction('convertToInteractive',\n",
              "                                                    [key], {});\n",
              "        if (!dataTable) return;\n",
              "\n",
              "        const docLinkHtml = 'Like what you see? Visit the ' +\n",
              "          '<a target=\"_blank\" href=https://colab.research.google.com/notebooks/data_table.ipynb>data table notebook</a>'\n",
              "          + ' to learn more about interactive tables.';\n",
              "        element.innerHTML = '';\n",
              "        dataTable['output_type'] = 'display_data';\n",
              "        await google.colab.output.renderOutput(dataTable, element);\n",
              "        const docLink = document.createElement('div');\n",
              "        docLink.innerHTML = docLinkHtml;\n",
              "        element.appendChild(docLink);\n",
              "      }\n",
              "    </script>\n",
              "  </div>\n",
              "\n",
              "\n",
              "<div id=\"df-a6a87c90-d5e1-4eac-ac4d-c99adb183831\">\n",
              "  <button class=\"colab-df-quickchart\" onclick=\"quickchart('df-a6a87c90-d5e1-4eac-ac4d-c99adb183831')\"\n",
              "            title=\"Suggest charts\"\n",
              "            style=\"display:none;\">\n",
              "\n",
              "<svg xmlns=\"http://www.w3.org/2000/svg\" height=\"24px\"viewBox=\"0 0 24 24\"\n",
              "     width=\"24px\">\n",
              "    <g>\n",
              "        <path d=\"M19 3H5c-1.1 0-2 .9-2 2v14c0 1.1.9 2 2 2h14c1.1 0 2-.9 2-2V5c0-1.1-.9-2-2-2zM9 17H7v-7h2v7zm4 0h-2V7h2v10zm4 0h-2v-4h2v4z\"/>\n",
              "    </g>\n",
              "</svg>\n",
              "  </button>\n",
              "\n",
              "<style>\n",
              "  .colab-df-quickchart {\n",
              "      --bg-color: #E8F0FE;\n",
              "      --fill-color: #1967D2;\n",
              "      --hover-bg-color: #E2EBFA;\n",
              "      --hover-fill-color: #174EA6;\n",
              "      --disabled-fill-color: #AAA;\n",
              "      --disabled-bg-color: #DDD;\n",
              "  }\n",
              "\n",
              "  [theme=dark] .colab-df-quickchart {\n",
              "      --bg-color: #3B4455;\n",
              "      --fill-color: #D2E3FC;\n",
              "      --hover-bg-color: #434B5C;\n",
              "      --hover-fill-color: #FFFFFF;\n",
              "      --disabled-bg-color: #3B4455;\n",
              "      --disabled-fill-color: #666;\n",
              "  }\n",
              "\n",
              "  .colab-df-quickchart {\n",
              "    background-color: var(--bg-color);\n",
              "    border: none;\n",
              "    border-radius: 50%;\n",
              "    cursor: pointer;\n",
              "    display: none;\n",
              "    fill: var(--fill-color);\n",
              "    height: 32px;\n",
              "    padding: 0;\n",
              "    width: 32px;\n",
              "  }\n",
              "\n",
              "  .colab-df-quickchart:hover {\n",
              "    background-color: var(--hover-bg-color);\n",
              "    box-shadow: 0 1px 2px rgba(60, 64, 67, 0.3), 0 1px 3px 1px rgba(60, 64, 67, 0.15);\n",
              "    fill: var(--button-hover-fill-color);\n",
              "  }\n",
              "\n",
              "  .colab-df-quickchart-complete:disabled,\n",
              "  .colab-df-quickchart-complete:disabled:hover {\n",
              "    background-color: var(--disabled-bg-color);\n",
              "    fill: var(--disabled-fill-color);\n",
              "    box-shadow: none;\n",
              "  }\n",
              "\n",
              "  .colab-df-spinner {\n",
              "    border: 2px solid var(--fill-color);\n",
              "    border-color: transparent;\n",
              "    border-bottom-color: var(--fill-color);\n",
              "    animation:\n",
              "      spin 1s steps(1) infinite;\n",
              "  }\n",
              "\n",
              "  @keyframes spin {\n",
              "    0% {\n",
              "      border-color: transparent;\n",
              "      border-bottom-color: var(--fill-color);\n",
              "      border-left-color: var(--fill-color);\n",
              "    }\n",
              "    20% {\n",
              "      border-color: transparent;\n",
              "      border-left-color: var(--fill-color);\n",
              "      border-top-color: var(--fill-color);\n",
              "    }\n",
              "    30% {\n",
              "      border-color: transparent;\n",
              "      border-left-color: var(--fill-color);\n",
              "      border-top-color: var(--fill-color);\n",
              "      border-right-color: var(--fill-color);\n",
              "    }\n",
              "    40% {\n",
              "      border-color: transparent;\n",
              "      border-right-color: var(--fill-color);\n",
              "      border-top-color: var(--fill-color);\n",
              "    }\n",
              "    60% {\n",
              "      border-color: transparent;\n",
              "      border-right-color: var(--fill-color);\n",
              "    }\n",
              "    80% {\n",
              "      border-color: transparent;\n",
              "      border-right-color: var(--fill-color);\n",
              "      border-bottom-color: var(--fill-color);\n",
              "    }\n",
              "    90% {\n",
              "      border-color: transparent;\n",
              "      border-bottom-color: var(--fill-color);\n",
              "    }\n",
              "  }\n",
              "</style>\n",
              "\n",
              "  <script>\n",
              "    async function quickchart(key) {\n",
              "      const quickchartButtonEl =\n",
              "        document.querySelector('#' + key + ' button');\n",
              "      quickchartButtonEl.disabled = true;  // To prevent multiple clicks.\n",
              "      quickchartButtonEl.classList.add('colab-df-spinner');\n",
              "      try {\n",
              "        const charts = await google.colab.kernel.invokeFunction(\n",
              "            'suggestCharts', [key], {});\n",
              "      } catch (error) {\n",
              "        console.error('Error during call to suggestCharts:', error);\n",
              "      }\n",
              "      quickchartButtonEl.classList.remove('colab-df-spinner');\n",
              "      quickchartButtonEl.classList.add('colab-df-quickchart-complete');\n",
              "    }\n",
              "    (() => {\n",
              "      let quickchartButtonEl =\n",
              "        document.querySelector('#df-a6a87c90-d5e1-4eac-ac4d-c99adb183831 button');\n",
              "      quickchartButtonEl.style.display =\n",
              "        google.colab.kernel.accessAllowed ? 'block' : 'none';\n",
              "    })();\n",
              "  </script>\n",
              "</div>\n",
              "\n",
              "    </div>\n",
              "  </div>\n"
            ],
            "application/vnd.google.colaboratory.intrinsic+json": {
              "type": "dataframe",
              "summary": "{\n  \"name\": \"df\",\n  \"rows\": 2,\n  \"fields\": [\n    {\n      \"column\": \"sum_math_8\",\n      \"properties\": {\n        \"dtype\": \"number\",\n        \"std\": 0,\n        \"min\": 0,\n        \"max\": 1,\n        \"num_unique_values\": 2,\n        \"samples\": [\n          1,\n          0\n        ],\n        \"semantic_type\": \"\",\n        \"description\": \"\"\n      }\n    },\n    {\n      \"column\": \"count\",\n      \"properties\": {\n        \"dtype\": \"number\",\n        \"std\": 2947.9281707667164,\n        \"min\": 2230.0,\n        \"max\": 6399.0,\n        \"num_unique_values\": 2,\n        \"samples\": [\n          2230.0,\n          6399.0\n        ],\n        \"semantic_type\": \"\",\n        \"description\": \"\"\n      }\n    },\n    {\n      \"column\": \"mean\",\n      \"properties\": {\n        \"dtype\": \"number\",\n        \"std\": 0.024666407874298617,\n        \"min\": 0.7787935614939835,\n        \"max\": 0.8136771300448431,\n        \"num_unique_values\": 2,\n        \"samples\": [\n          0.8136771300448431,\n          0.7787935614939835\n        ],\n        \"semantic_type\": \"\",\n        \"description\": \"\"\n      }\n    },\n    {\n      \"column\": \"std\",\n      \"properties\": {\n        \"dtype\": \"number\",\n        \"std\": 0.018554576543575892,\n        \"min\": 0.37462878143876444,\n        \"max\": 0.40086891523077917,\n        \"num_unique_values\": 2,\n        \"samples\": [\n          0.37462878143876444,\n          0.40086891523077917\n        ],\n        \"semantic_type\": \"\",\n        \"description\": \"\"\n      }\n    },\n    {\n      \"column\": \"min\",\n      \"properties\": {\n        \"dtype\": \"number\",\n        \"std\": 0.0,\n        \"min\": 0.0,\n        \"max\": 0.0,\n        \"num_unique_values\": 1,\n        \"samples\": [\n          0.0\n        ],\n        \"semantic_type\": \"\",\n        \"description\": \"\"\n      }\n    },\n    {\n      \"column\": \"25%\",\n      \"properties\": {\n        \"dtype\": \"number\",\n        \"std\": 0.0,\n        \"min\": 1.0,\n        \"max\": 1.0,\n        \"num_unique_values\": 1,\n        \"samples\": [\n          1.0\n        ],\n        \"semantic_type\": \"\",\n        \"description\": \"\"\n      }\n    },\n    {\n      \"column\": \"50%\",\n      \"properties\": {\n        \"dtype\": \"number\",\n        \"std\": 0.0,\n        \"min\": 1.0,\n        \"max\": 1.0,\n        \"num_unique_values\": 1,\n        \"samples\": [\n          1.0\n        ],\n        \"semantic_type\": \"\",\n        \"description\": \"\"\n      }\n    },\n    {\n      \"column\": \"75%\",\n      \"properties\": {\n        \"dtype\": \"number\",\n        \"std\": 0.0,\n        \"min\": 1.0,\n        \"max\": 1.0,\n        \"num_unique_values\": 1,\n        \"samples\": [\n          1.0\n        ],\n        \"semantic_type\": \"\",\n        \"description\": \"\"\n      }\n    },\n    {\n      \"column\": \"max\",\n      \"properties\": {\n        \"dtype\": \"number\",\n        \"std\": 0.0,\n        \"min\": 1.0,\n        \"max\": 1.0,\n        \"num_unique_values\": 1,\n        \"samples\": [\n          1.0\n        ],\n        \"semantic_type\": \"\",\n        \"description\": \"\"\n      }\n    }\n  ]\n}"
            }
          },
          "metadata": {},
          "execution_count": 249
        }
      ]
    },
    {
      "cell_type": "code",
      "source": [
        "## English\n",
        "\n",
        "df.groupby('sum_eng_8')['eng_9'].describe()"
      ],
      "metadata": {
        "colab": {
          "base_uri": "https://localhost:8080/",
          "height": 143
        },
        "id": "AfyGYjZbnRv_",
        "outputId": "2f00ca3d-d77d-4027-ef8d-4003e0a9d34c"
      },
      "execution_count": 250,
      "outputs": [
        {
          "output_type": "execute_result",
          "data": {
            "text/plain": [
              "            count      mean       std  min  25%  50%  75%  max\n",
              "sum_eng_8                                                     \n",
              "0          6392.0  0.809215  0.377465  0.0  1.0  1.0  1.0  1.0\n",
              "1          2237.0  0.826553  0.364578  0.0  1.0  1.0  1.0  1.0"
            ],
            "text/html": [
              "\n",
              "  <div id=\"df-eeee8e5c-90a7-4f59-9332-62feb9e0a4d9\" class=\"colab-df-container\">\n",
              "    <div>\n",
              "<style scoped>\n",
              "    .dataframe tbody tr th:only-of-type {\n",
              "        vertical-align: middle;\n",
              "    }\n",
              "\n",
              "    .dataframe tbody tr th {\n",
              "        vertical-align: top;\n",
              "    }\n",
              "\n",
              "    .dataframe thead th {\n",
              "        text-align: right;\n",
              "    }\n",
              "</style>\n",
              "<table border=\"1\" class=\"dataframe\">\n",
              "  <thead>\n",
              "    <tr style=\"text-align: right;\">\n",
              "      <th></th>\n",
              "      <th>count</th>\n",
              "      <th>mean</th>\n",
              "      <th>std</th>\n",
              "      <th>min</th>\n",
              "      <th>25%</th>\n",
              "      <th>50%</th>\n",
              "      <th>75%</th>\n",
              "      <th>max</th>\n",
              "    </tr>\n",
              "    <tr>\n",
              "      <th>sum_eng_8</th>\n",
              "      <th></th>\n",
              "      <th></th>\n",
              "      <th></th>\n",
              "      <th></th>\n",
              "      <th></th>\n",
              "      <th></th>\n",
              "      <th></th>\n",
              "      <th></th>\n",
              "    </tr>\n",
              "  </thead>\n",
              "  <tbody>\n",
              "    <tr>\n",
              "      <th>0</th>\n",
              "      <td>6392.0</td>\n",
              "      <td>0.809215</td>\n",
              "      <td>0.377465</td>\n",
              "      <td>0.0</td>\n",
              "      <td>1.0</td>\n",
              "      <td>1.0</td>\n",
              "      <td>1.0</td>\n",
              "      <td>1.0</td>\n",
              "    </tr>\n",
              "    <tr>\n",
              "      <th>1</th>\n",
              "      <td>2237.0</td>\n",
              "      <td>0.826553</td>\n",
              "      <td>0.364578</td>\n",
              "      <td>0.0</td>\n",
              "      <td>1.0</td>\n",
              "      <td>1.0</td>\n",
              "      <td>1.0</td>\n",
              "      <td>1.0</td>\n",
              "    </tr>\n",
              "  </tbody>\n",
              "</table>\n",
              "</div>\n",
              "    <div class=\"colab-df-buttons\">\n",
              "\n",
              "  <div class=\"colab-df-container\">\n",
              "    <button class=\"colab-df-convert\" onclick=\"convertToInteractive('df-eeee8e5c-90a7-4f59-9332-62feb9e0a4d9')\"\n",
              "            title=\"Convert this dataframe to an interactive table.\"\n",
              "            style=\"display:none;\">\n",
              "\n",
              "  <svg xmlns=\"http://www.w3.org/2000/svg\" height=\"24px\" viewBox=\"0 -960 960 960\">\n",
              "    <path d=\"M120-120v-720h720v720H120Zm60-500h600v-160H180v160Zm220 220h160v-160H400v160Zm0 220h160v-160H400v160ZM180-400h160v-160H180v160Zm440 0h160v-160H620v160ZM180-180h160v-160H180v160Zm440 0h160v-160H620v160Z\"/>\n",
              "  </svg>\n",
              "    </button>\n",
              "\n",
              "  <style>\n",
              "    .colab-df-container {\n",
              "      display:flex;\n",
              "      gap: 12px;\n",
              "    }\n",
              "\n",
              "    .colab-df-convert {\n",
              "      background-color: #E8F0FE;\n",
              "      border: none;\n",
              "      border-radius: 50%;\n",
              "      cursor: pointer;\n",
              "      display: none;\n",
              "      fill: #1967D2;\n",
              "      height: 32px;\n",
              "      padding: 0 0 0 0;\n",
              "      width: 32px;\n",
              "    }\n",
              "\n",
              "    .colab-df-convert:hover {\n",
              "      background-color: #E2EBFA;\n",
              "      box-shadow: 0px 1px 2px rgba(60, 64, 67, 0.3), 0px 1px 3px 1px rgba(60, 64, 67, 0.15);\n",
              "      fill: #174EA6;\n",
              "    }\n",
              "\n",
              "    .colab-df-buttons div {\n",
              "      margin-bottom: 4px;\n",
              "    }\n",
              "\n",
              "    [theme=dark] .colab-df-convert {\n",
              "      background-color: #3B4455;\n",
              "      fill: #D2E3FC;\n",
              "    }\n",
              "\n",
              "    [theme=dark] .colab-df-convert:hover {\n",
              "      background-color: #434B5C;\n",
              "      box-shadow: 0px 1px 3px 1px rgba(0, 0, 0, 0.15);\n",
              "      filter: drop-shadow(0px 1px 2px rgba(0, 0, 0, 0.3));\n",
              "      fill: #FFFFFF;\n",
              "    }\n",
              "  </style>\n",
              "\n",
              "    <script>\n",
              "      const buttonEl =\n",
              "        document.querySelector('#df-eeee8e5c-90a7-4f59-9332-62feb9e0a4d9 button.colab-df-convert');\n",
              "      buttonEl.style.display =\n",
              "        google.colab.kernel.accessAllowed ? 'block' : 'none';\n",
              "\n",
              "      async function convertToInteractive(key) {\n",
              "        const element = document.querySelector('#df-eeee8e5c-90a7-4f59-9332-62feb9e0a4d9');\n",
              "        const dataTable =\n",
              "          await google.colab.kernel.invokeFunction('convertToInteractive',\n",
              "                                                    [key], {});\n",
              "        if (!dataTable) return;\n",
              "\n",
              "        const docLinkHtml = 'Like what you see? Visit the ' +\n",
              "          '<a target=\"_blank\" href=https://colab.research.google.com/notebooks/data_table.ipynb>data table notebook</a>'\n",
              "          + ' to learn more about interactive tables.';\n",
              "        element.innerHTML = '';\n",
              "        dataTable['output_type'] = 'display_data';\n",
              "        await google.colab.output.renderOutput(dataTable, element);\n",
              "        const docLink = document.createElement('div');\n",
              "        docLink.innerHTML = docLinkHtml;\n",
              "        element.appendChild(docLink);\n",
              "      }\n",
              "    </script>\n",
              "  </div>\n",
              "\n",
              "\n",
              "<div id=\"df-9572a4c5-7568-4834-aaed-2cecd873a0c9\">\n",
              "  <button class=\"colab-df-quickchart\" onclick=\"quickchart('df-9572a4c5-7568-4834-aaed-2cecd873a0c9')\"\n",
              "            title=\"Suggest charts\"\n",
              "            style=\"display:none;\">\n",
              "\n",
              "<svg xmlns=\"http://www.w3.org/2000/svg\" height=\"24px\"viewBox=\"0 0 24 24\"\n",
              "     width=\"24px\">\n",
              "    <g>\n",
              "        <path d=\"M19 3H5c-1.1 0-2 .9-2 2v14c0 1.1.9 2 2 2h14c1.1 0 2-.9 2-2V5c0-1.1-.9-2-2-2zM9 17H7v-7h2v7zm4 0h-2V7h2v10zm4 0h-2v-4h2v4z\"/>\n",
              "    </g>\n",
              "</svg>\n",
              "  </button>\n",
              "\n",
              "<style>\n",
              "  .colab-df-quickchart {\n",
              "      --bg-color: #E8F0FE;\n",
              "      --fill-color: #1967D2;\n",
              "      --hover-bg-color: #E2EBFA;\n",
              "      --hover-fill-color: #174EA6;\n",
              "      --disabled-fill-color: #AAA;\n",
              "      --disabled-bg-color: #DDD;\n",
              "  }\n",
              "\n",
              "  [theme=dark] .colab-df-quickchart {\n",
              "      --bg-color: #3B4455;\n",
              "      --fill-color: #D2E3FC;\n",
              "      --hover-bg-color: #434B5C;\n",
              "      --hover-fill-color: #FFFFFF;\n",
              "      --disabled-bg-color: #3B4455;\n",
              "      --disabled-fill-color: #666;\n",
              "  }\n",
              "\n",
              "  .colab-df-quickchart {\n",
              "    background-color: var(--bg-color);\n",
              "    border: none;\n",
              "    border-radius: 50%;\n",
              "    cursor: pointer;\n",
              "    display: none;\n",
              "    fill: var(--fill-color);\n",
              "    height: 32px;\n",
              "    padding: 0;\n",
              "    width: 32px;\n",
              "  }\n",
              "\n",
              "  .colab-df-quickchart:hover {\n",
              "    background-color: var(--hover-bg-color);\n",
              "    box-shadow: 0 1px 2px rgba(60, 64, 67, 0.3), 0 1px 3px 1px rgba(60, 64, 67, 0.15);\n",
              "    fill: var(--button-hover-fill-color);\n",
              "  }\n",
              "\n",
              "  .colab-df-quickchart-complete:disabled,\n",
              "  .colab-df-quickchart-complete:disabled:hover {\n",
              "    background-color: var(--disabled-bg-color);\n",
              "    fill: var(--disabled-fill-color);\n",
              "    box-shadow: none;\n",
              "  }\n",
              "\n",
              "  .colab-df-spinner {\n",
              "    border: 2px solid var(--fill-color);\n",
              "    border-color: transparent;\n",
              "    border-bottom-color: var(--fill-color);\n",
              "    animation:\n",
              "      spin 1s steps(1) infinite;\n",
              "  }\n",
              "\n",
              "  @keyframes spin {\n",
              "    0% {\n",
              "      border-color: transparent;\n",
              "      border-bottom-color: var(--fill-color);\n",
              "      border-left-color: var(--fill-color);\n",
              "    }\n",
              "    20% {\n",
              "      border-color: transparent;\n",
              "      border-left-color: var(--fill-color);\n",
              "      border-top-color: var(--fill-color);\n",
              "    }\n",
              "    30% {\n",
              "      border-color: transparent;\n",
              "      border-left-color: var(--fill-color);\n",
              "      border-top-color: var(--fill-color);\n",
              "      border-right-color: var(--fill-color);\n",
              "    }\n",
              "    40% {\n",
              "      border-color: transparent;\n",
              "      border-right-color: var(--fill-color);\n",
              "      border-top-color: var(--fill-color);\n",
              "    }\n",
              "    60% {\n",
              "      border-color: transparent;\n",
              "      border-right-color: var(--fill-color);\n",
              "    }\n",
              "    80% {\n",
              "      border-color: transparent;\n",
              "      border-right-color: var(--fill-color);\n",
              "      border-bottom-color: var(--fill-color);\n",
              "    }\n",
              "    90% {\n",
              "      border-color: transparent;\n",
              "      border-bottom-color: var(--fill-color);\n",
              "    }\n",
              "  }\n",
              "</style>\n",
              "\n",
              "  <script>\n",
              "    async function quickchart(key) {\n",
              "      const quickchartButtonEl =\n",
              "        document.querySelector('#' + key + ' button');\n",
              "      quickchartButtonEl.disabled = true;  // To prevent multiple clicks.\n",
              "      quickchartButtonEl.classList.add('colab-df-spinner');\n",
              "      try {\n",
              "        const charts = await google.colab.kernel.invokeFunction(\n",
              "            'suggestCharts', [key], {});\n",
              "      } catch (error) {\n",
              "        console.error('Error during call to suggestCharts:', error);\n",
              "      }\n",
              "      quickchartButtonEl.classList.remove('colab-df-spinner');\n",
              "      quickchartButtonEl.classList.add('colab-df-quickchart-complete');\n",
              "    }\n",
              "    (() => {\n",
              "      let quickchartButtonEl =\n",
              "        document.querySelector('#df-9572a4c5-7568-4834-aaed-2cecd873a0c9 button');\n",
              "      quickchartButtonEl.style.display =\n",
              "        google.colab.kernel.accessAllowed ? 'block' : 'none';\n",
              "    })();\n",
              "  </script>\n",
              "</div>\n",
              "\n",
              "    </div>\n",
              "  </div>\n"
            ],
            "application/vnd.google.colaboratory.intrinsic+json": {
              "type": "dataframe",
              "summary": "{\n  \"name\": \"df\",\n  \"rows\": 2,\n  \"fields\": [\n    {\n      \"column\": \"sum_eng_8\",\n      \"properties\": {\n        \"dtype\": \"number\",\n        \"std\": 0,\n        \"min\": 0,\n        \"max\": 1,\n        \"num_unique_values\": 2,\n        \"samples\": [\n          1,\n          0\n        ],\n        \"semantic_type\": \"\",\n        \"description\": \"\"\n      }\n    },\n    {\n      \"column\": \"count\",\n      \"properties\": {\n        \"dtype\": \"number\",\n        \"std\": 2938.028675830105,\n        \"min\": 2237.0,\n        \"max\": 6392.0,\n        \"num_unique_values\": 2,\n        \"samples\": [\n          2237.0,\n          6392.0\n        ],\n        \"semantic_type\": \"\",\n        \"description\": \"\"\n      }\n    },\n    {\n      \"column\": \"mean\",\n      \"properties\": {\n        \"dtype\": \"number\",\n        \"std\": 0.012260366408437005,\n        \"min\": 0.8092146433041302,\n        \"max\": 0.8265534197586053,\n        \"num_unique_values\": 2,\n        \"samples\": [\n          0.8265534197586053,\n          0.8092146433041302\n        ],\n        \"semantic_type\": \"\",\n        \"description\": \"\"\n      }\n    },\n    {\n      \"column\": \"std\",\n      \"properties\": {\n        \"dtype\": \"number\",\n        \"std\": 0.009112270775085496,\n        \"min\": 0.36457803117685017,\n        \"max\": 0.3774647280909921,\n        \"num_unique_values\": 2,\n        \"samples\": [\n          0.36457803117685017,\n          0.3774647280909921\n        ],\n        \"semantic_type\": \"\",\n        \"description\": \"\"\n      }\n    },\n    {\n      \"column\": \"min\",\n      \"properties\": {\n        \"dtype\": \"number\",\n        \"std\": 0.0,\n        \"min\": 0.0,\n        \"max\": 0.0,\n        \"num_unique_values\": 1,\n        \"samples\": [\n          0.0\n        ],\n        \"semantic_type\": \"\",\n        \"description\": \"\"\n      }\n    },\n    {\n      \"column\": \"25%\",\n      \"properties\": {\n        \"dtype\": \"number\",\n        \"std\": 0.0,\n        \"min\": 1.0,\n        \"max\": 1.0,\n        \"num_unique_values\": 1,\n        \"samples\": [\n          1.0\n        ],\n        \"semantic_type\": \"\",\n        \"description\": \"\"\n      }\n    },\n    {\n      \"column\": \"50%\",\n      \"properties\": {\n        \"dtype\": \"number\",\n        \"std\": 0.0,\n        \"min\": 1.0,\n        \"max\": 1.0,\n        \"num_unique_values\": 1,\n        \"samples\": [\n          1.0\n        ],\n        \"semantic_type\": \"\",\n        \"description\": \"\"\n      }\n    },\n    {\n      \"column\": \"75%\",\n      \"properties\": {\n        \"dtype\": \"number\",\n        \"std\": 0.0,\n        \"min\": 1.0,\n        \"max\": 1.0,\n        \"num_unique_values\": 1,\n        \"samples\": [\n          1.0\n        ],\n        \"semantic_type\": \"\",\n        \"description\": \"\"\n      }\n    },\n    {\n      \"column\": \"max\",\n      \"properties\": {\n        \"dtype\": \"number\",\n        \"std\": 0.0,\n        \"min\": 1.0,\n        \"max\": 1.0,\n        \"num_unique_values\": 1,\n        \"samples\": [\n          1.0\n        ],\n        \"semantic_type\": \"\",\n        \"description\": \"\"\n      }\n    }\n  ]\n}"
            }
          },
          "metadata": {},
          "execution_count": 250
        }
      ]
    },
    {
      "cell_type": "markdown",
      "source": [
        "#### Checking the Stats of Math Credits by Demographic Group\n",
        "* Gender, Federal free or reduced lunch program, English Language Learner,  Received special education services"
      ],
      "metadata": {
        "id": "XG6p2btQmJ_e"
      }
    },
    {
      "cell_type": "code",
      "source": [
        "#### MATH ####\n",
        "\n",
        "# Defining the demographic groups\n",
        "demographic_groups = ['s_male','s_frpl', 's_ell', 's_sped']\n",
        "\n",
        "# Calculating statistics for 'math_9' by each demographic group\n",
        "for group in demographic_groups:\n",
        "    print(f\"Stats for 9th Grade Math Credits by {group}:\\n\")\n",
        "    stats = df.groupby(group)['math_9'].describe()\n",
        "    print(stats)\n",
        "    print('-' * 70)\n",
        "    print('\\n')"
      ],
      "metadata": {
        "colab": {
          "base_uri": "https://localhost:8080/"
        },
        "id": "pcKtprNyl7HA",
        "outputId": "5ab468b9-c120-4d44-85bf-507531664a83"
      },
      "execution_count": 251,
      "outputs": [
        {
          "output_type": "stream",
          "name": "stdout",
          "text": [
            "Stats for 9th Grade Math Credits by s_male:\n",
            "\n",
            "         count      mean       std  min  25%  50%  75%  max\n",
            "s_male                                                     \n",
            "0       4601.0  0.776244  0.403219  0.0  1.0  1.0  1.0  1.0\n",
            "1       4028.0  0.801018  0.383987  0.0  1.0  1.0  1.0  1.0\n",
            "----------------------------------------------------------------------\n",
            "\n",
            "\n",
            "Stats for 9th Grade Math Credits by s_frpl:\n",
            "\n",
            "         count      mean       std  min  25%  50%  75%  max\n",
            "s_frpl                                                     \n",
            "0       5131.0  0.839895  0.351472  0.0  1.0  1.0  1.0  1.0\n",
            "1       3498.0  0.711407  0.439316  0.0  0.0  1.0  1.0  1.0\n",
            "----------------------------------------------------------------------\n",
            "\n",
            "\n",
            "Stats for 9th Grade Math Credits by s_ell:\n",
            "\n",
            "        count      mean       std  min  25%  50%  75%  max\n",
            "s_ell                                                     \n",
            "0      7753.0  0.803044  0.383188  0.0  1.0  1.0  1.0  1.0\n",
            "1       876.0  0.652968  0.462295  0.0  0.0  1.0  1.0  1.0\n",
            "----------------------------------------------------------------------\n",
            "\n",
            "\n",
            "Stats for 9th Grade Math Credits by s_sped:\n",
            "\n",
            "         count      mean       std  min  25%  50%  75%  max\n",
            "s_sped                                                     \n",
            "0       7696.0  0.828807  0.360619  0.0  1.0  1.0  1.0  1.0\n",
            "1        933.0  0.449625  0.488749  0.0  0.0  0.0  1.0  1.0\n",
            "----------------------------------------------------------------------\n",
            "\n",
            "\n"
          ]
        }
      ]
    },
    {
      "cell_type": "markdown",
      "source": [
        "#### Checking the Stats of Eng Credits by Demographic Group\n"
      ],
      "metadata": {
        "id": "beBODmr2hSlN"
      }
    },
    {
      "cell_type": "code",
      "source": [
        "#### ENG ####\n",
        "\n",
        "for group in demographic_groups:\n",
        "    stats = df.groupby(group)['eng_9'].describe()\n",
        "    print(stats)\n",
        "    print('-' * 70)\n",
        "    print('\\n')"
      ],
      "metadata": {
        "colab": {
          "base_uri": "https://localhost:8080/"
        },
        "id": "bYLOEmQRxNVu",
        "outputId": "8f64ff0b-25ef-49f1-fdb3-11ddf5edec04"
      },
      "execution_count": 252,
      "outputs": [
        {
          "output_type": "stream",
          "name": "stdout",
          "text": [
            "         count      mean       std  min  25%  50%  75%  max\n",
            "s_male                                                     \n",
            "0       4601.0  0.802760  0.381859  0.0  1.0  1.0  1.0  1.0\n",
            "1       4028.0  0.826216  0.364950  0.0  1.0  1.0  1.0  1.0\n",
            "----------------------------------------------------------------------\n",
            "\n",
            "\n",
            "         count      mean       std  min  25%  50%  75%  max\n",
            "s_frpl                                                     \n",
            "0       5131.0  0.859092  0.332198  0.0  1.0  1.0  1.0  1.0\n",
            "1       3498.0  0.747141  0.419736  0.0  0.5  1.0  1.0  1.0\n",
            "----------------------------------------------------------------------\n",
            "\n",
            "\n",
            "        count      mean       std  min  25%  50%  75%  max\n",
            "s_ell                                                     \n",
            "0      7753.0  0.845544  0.345207  0.0  1.0  1.0  1.0  1.0\n",
            "1       876.0  0.531963  0.486509  0.0  0.0  1.0  1.0  1.0\n",
            "----------------------------------------------------------------------\n",
            "\n",
            "\n",
            "         count      mean       std  min  25%  50%  75%  max\n",
            "s_sped                                                     \n",
            "0       7696.0  0.854730  0.335197  0.0  1.0  1.0  1.0  1.0\n",
            "1        933.0  0.475348  0.490175  0.0  0.0  0.0  1.0  1.0\n",
            "----------------------------------------------------------------------\n",
            "\n",
            "\n"
          ]
        }
      ]
    },
    {
      "cell_type": "markdown",
      "source": [
        "# For Students with Demo ==1 ie requires special assistance (Special Ed services, Identified ELL, qualifies for federal free or reduced lunch program )\n",
        "\n",
        "Checking their Summer Program Participation & their Math & Eng credits"
      ],
      "metadata": {
        "id": "TrFmG-oxqSDR"
      }
    },
    {
      "cell_type": "code",
      "source": [
        "#### MATH ####\n",
        "\n",
        "demographic_groups = ['s_frpl', 's_ell', 's_sped']\n",
        "\n",
        "# Defining which summer program\n",
        "summer_program_participation = 'sum_math_8'\n",
        "\n",
        "# Filtering dataframe to include only rows where demographic groups are equal to 1\n",
        "for group in demographic_groups:\n",
        "    filtered_df = df[df[group] == 1]\n",
        "\n",
        "    # Calculating statistics for 'math_9' by each demographic group\n",
        "    print(f\"Stats for 9th Grade Math Credits by {group} (where {group} = 1):\\n\")\n",
        "    stats = filtered_df.groupby(summer_program_participation)['math_9'].describe()\n",
        "    print(stats)\n",
        "    print('-' * 70)\n",
        "    print('\\n')\n"
      ],
      "metadata": {
        "colab": {
          "base_uri": "https://localhost:8080/"
        },
        "id": "gKHzhbgSpfkY",
        "outputId": "374b004f-88e1-4f96-a5a6-43c56c338f2c"
      },
      "execution_count": 253,
      "outputs": [
        {
          "output_type": "stream",
          "name": "stdout",
          "text": [
            "Stats for 9th Grade Math Credits by s_frpl (where s_frpl = 1):\n",
            "\n",
            "             count      mean       std  min  25%  50%  75%  max\n",
            "sum_math_8                                                     \n",
            "0           2592.0  0.699653  0.445150  0.0  0.0  1.0  1.0  1.0\n",
            "1            906.0  0.745033  0.420606  0.0  0.5  1.0  1.0  1.0\n",
            "----------------------------------------------------------------------\n",
            "\n",
            "\n",
            "Stats for 9th Grade Math Credits by s_ell (where s_ell = 1):\n",
            "\n",
            "            count      mean       std  min  25%  50%  75%  max\n",
            "sum_math_8                                                    \n",
            "0           661.0  0.649773  0.464126  0.0  0.0  1.0  1.0  1.0\n",
            "1           215.0  0.662791  0.457555  0.0  0.0  1.0  1.0  1.0\n",
            "----------------------------------------------------------------------\n",
            "\n",
            "\n",
            "Stats for 9th Grade Math Credits by s_sped (where s_sped = 1):\n",
            "\n",
            "            count      mean       std  min  25%  50%  75%  max\n",
            "sum_math_8                                                    \n",
            "0           691.0  0.431259  0.486759  0.0  0.0  0.0  1.0  1.0\n",
            "1           242.0  0.502066  0.491627  0.0  0.0  0.5  1.0  1.0\n",
            "----------------------------------------------------------------------\n",
            "\n",
            "\n"
          ]
        }
      ]
    },
    {
      "cell_type": "code",
      "source": [
        "# Defining which summer program\n",
        "summer_program_participation = 'sum_eng_8'\n",
        "\n",
        "# Filtering dataframe to include only rows where demographic groups are equal to 1\n",
        "for group in demographic_groups:\n",
        "    filtered_df = df[df[group] == 1]\n",
        "\n",
        "    # Calculating statistics for 'eng_9' by each demographic group\n",
        "    print(f\"Stats for 9th Grade English Credits by {group} (where {group} = 1):\\n\")\n",
        "    stats = filtered_df.groupby(summer_program_participation)['eng_9'].describe()\n",
        "    print(stats)\n",
        "    print('-' * 70)\n",
        "    print('\\n')\n"
      ],
      "metadata": {
        "colab": {
          "base_uri": "https://localhost:8080/"
        },
        "id": "Q3vRnmBbpfnp",
        "outputId": "e6e4bdf5-dff8-4d9d-c78c-bf2322a4bd53"
      },
      "execution_count": 254,
      "outputs": [
        {
          "output_type": "stream",
          "name": "stdout",
          "text": [
            "Stats for 9th Grade English Credits by s_frpl (where s_frpl = 1):\n",
            "\n",
            "            count      mean       std  min  25%  50%  75%  max\n",
            "sum_eng_8                                                     \n",
            "0          2578.0  0.736618  0.425316  0.0  0.5  1.0  1.0  1.0\n",
            "1           920.0  0.776630  0.402451  0.0  1.0  1.0  1.0  1.0\n",
            "----------------------------------------------------------------------\n",
            "\n",
            "\n",
            "Stats for 9th Grade English Credits by s_ell (where s_ell = 1):\n",
            "\n",
            "           count      mean       std  min  25%  50%  75%  max\n",
            "sum_eng_8                                                    \n",
            "0          635.0  0.511811  0.485859  0.0  0.0  0.5  1.0  1.0\n",
            "1          241.0  0.585062  0.485224  0.0  0.0  1.0  1.0  1.0\n",
            "----------------------------------------------------------------------\n",
            "\n",
            "\n",
            "Stats for 9th Grade English Credits by s_sped (where s_sped = 1):\n",
            "\n",
            "           count      mean       std  min  25%  50%  75%  max\n",
            "sum_eng_8                                                    \n",
            "0          691.0  0.474674  0.489464  0.0  0.0  0.0  1.0  1.0\n",
            "1          242.0  0.477273  0.493211  0.0  0.0  0.0  1.0  1.0\n",
            "----------------------------------------------------------------------\n",
            "\n",
            "\n"
          ]
        }
      ]
    },
    {
      "cell_type": "markdown",
      "source": [
        " # Correlation Analysis\n",
        "\n",
        " To determine if a correlation is weak or strong:\n",
        "\n",
        "* Very Weak: Correlation coefficient is between 0 and 0.1\n",
        "* Weak: Between 0.1 and 0.3\n",
        "* Moderate: Between 0.3 and 0.5\n",
        "* Strong: Between 0.5 and 1.0"
      ],
      "metadata": {
        "id": "vI7XmgrDywYV"
      }
    },
    {
      "cell_type": "code",
      "source": [
        "#### Math ####\n",
        "\n",
        "# Calculating the correlation between summer Math program participation and Math credits\n",
        "correlation_math = df['sum_math_8'].corr(df['math_9'])\n",
        "correlation_math"
      ],
      "metadata": {
        "colab": {
          "base_uri": "https://localhost:8080/"
        },
        "id": "d1N2eAsnR4Gt",
        "outputId": "0f211539-ba1c-41ef-b2c3-34c1fe82ac82"
      },
      "execution_count": 255,
      "outputs": [
        {
          "output_type": "execute_result",
          "data": {
            "text/plain": [
              "0.038709253550724965"
            ]
          },
          "metadata": {},
          "execution_count": 255
        }
      ]
    },
    {
      "cell_type": "markdown",
      "source": [
        "The correlation between participation in the summer Math program and Math credits earned in 9th grade is very weak (0.039)."
      ],
      "metadata": {
        "id": "agI3woB8AJXi"
      }
    },
    {
      "cell_type": "code",
      "source": [
        "#### English ####\n",
        "\n",
        "# Calculating the correlation between summer Eng program participation and Eng credits\n",
        "correlation_eng = df['sum_eng_8'].corr(df['eng_9'])\n",
        "correlation_eng"
      ],
      "metadata": {
        "colab": {
          "base_uri": "https://localhost:8080/"
        },
        "id": "FpKdqX7DR4Jx",
        "outputId": "06752d6b-fefd-4d00-e6de-2ac82479045a"
      },
      "execution_count": 256,
      "outputs": [
        {
          "output_type": "execute_result",
          "data": {
            "text/plain": [
              "0.02030506241626439"
            ]
          },
          "metadata": {},
          "execution_count": 256
        }
      ]
    },
    {
      "cell_type": "markdown",
      "source": [
        "The correlation between participation in the summer English program and English credits earned in 9th grade is very weak (0.020)."
      ],
      "metadata": {
        "id": "JEYywX-dAdfh"
      }
    },
    {
      "cell_type": "markdown",
      "source": [
        "## Made a New Column in Excel : sum_eng_math\n",
        "\n",
        "* 0 - Participation in none\n",
        "* 1 - Participation in Eng or Math Summer Program\n",
        "* 2 - Participation in Both Summer Programs"
      ],
      "metadata": {
        "id": "4G3dqL5zsSyq"
      }
    },
    {
      "cell_type": "code",
      "source": [
        "#### Pariticipath in Summer Eng & Math program + Total Credits in 9th grade ####\n",
        "\n",
        "correlation_eng = df['sum_eng_math'].corr(df['total_9'])\n",
        "correlation_eng"
      ],
      "metadata": {
        "colab": {
          "base_uri": "https://localhost:8080/"
        },
        "id": "vX1dV1qsr9Sq",
        "outputId": "07be9995-15f4-4530-cd21-1148147c1b5e"
      },
      "execution_count": 257,
      "outputs": [
        {
          "output_type": "execute_result",
          "data": {
            "text/plain": [
              "0.029286387020671625"
            ]
          },
          "metadata": {},
          "execution_count": 257
        }
      ]
    },
    {
      "cell_type": "markdown",
      "source": [
        "The correlation between participation in summer English and Math programs (combined) and total credits earned in 9th grade is very weak (0.029).\n",
        "\n",
        "\n",
        "Further analysis is required."
      ],
      "metadata": {
        "id": "GtgenVYIAuUj"
      }
    },
    {
      "cell_type": "markdown",
      "source": [
        "# Check for Normality:\n",
        "\n",
        "To check if data is normally distributed --- for choosing the right statistical tests\n",
        "\n"
      ],
      "metadata": {
        "id": "xjW3ghq_3P75"
      }
    },
    {
      "cell_type": "markdown",
      "source": [
        "### 1. Visual Inspection\n",
        "\n",
        "\n",
        "* If the histogram looks bell-shaped and symmetric around the center, the data might be normally distributed.\n",
        "\n",
        "* If the histogram shows skewness (not symmetrical), the data might not be normally distributed."
      ],
      "metadata": {
        "id": "sKHERJnO4Z5Y"
      }
    },
    {
      "cell_type": "code",
      "source": [
        "import seaborn as sns\n",
        "import matplotlib.pyplot as plt\n",
        "\n",
        "data = df['math_9']\n",
        "\n",
        "# Creating histogram\n",
        "plt.figure(figsize=(5, 3))\n",
        "sns.histplot(data, bins=30, kde=True)\n",
        "plt.title('Histogram of 9th Grade Math Credits')\n",
        "\n",
        "plt.show()"
      ],
      "metadata": {
        "colab": {
          "base_uri": "https://localhost:8080/",
          "height": 333
        },
        "id": "9wULQMo01PxX",
        "outputId": "e537bd3c-6e8c-4e30-9133-d5698ed4bffa"
      },
      "execution_count": 258,
      "outputs": [
        {
          "output_type": "display_data",
          "data": {
            "text/plain": [
              "<Figure size 500x300 with 1 Axes>"
            ],
            "image/png": "[encoded data removed]"
          },
          "metadata": {}
        }
      ]
    },
    {
      "cell_type": "code",
      "source": [
        "data = df['eng_9']\n",
        "\n",
        "# Creating histogram\n",
        "plt.figure(figsize=(5, 3))\n",
        "sns.histplot(data, bins=30, kde=True)\n",
        "plt.title('Histogram of 9th Grade English Credits')\n",
        "\n",
        "plt.show()"
      ],
      "metadata": {
        "colab": {
          "base_uri": "https://localhost:8080/",
          "height": 333
        },
        "id": "ZXZdFagN3YXj",
        "outputId": "9e8cd5c0-0c60-43b8-c08a-4a01c6008514"
      },
      "execution_count": 259,
      "outputs": [
        {
          "output_type": "display_data",
          "data": {
            "text/plain": [
              "<Figure size 500x300 with 1 Axes>"
            ],
            "image/png": "[encoded data removed]"
          },
          "metadata": {}
        }
      ]
    },
    {
      "cell_type": "markdown",
      "source": [
        "### 2. Quantitative Test\n",
        "\n",
        "\n",
        "The Shapiro-Wilk test is commonly used to test the normality of a dataset.\n",
        "\n",
        "* P-value < 0.05: Data is likely not normally distributed.\n",
        "* P-value ≥ 0.05: Data may be normally distributed.\n"
      ],
      "metadata": {
        "id": "i5jmffL-3tTT"
      }
    },
    {
      "cell_type": "code",
      "source": [
        "from scipy.stats import shapiro\n",
        "\n",
        "math_data = df['math_9']\n",
        "\n",
        "# Shapiro-Wilk test\n",
        "stat, p_value = shapiro(math_data)\n",
        "\n",
        "print('Shapiro-Wilk Test Statistic:\\n',stat)\n",
        "print('P-value:\\n', p_value)"
      ],
      "metadata": {
        "colab": {
          "base_uri": "https://localhost:8080/"
        },
        "id": "9pn5bypt1Pz8",
        "outputId": "d120fd2c-c766-40d0-8ff6-f9a341398f12"
      },
      "execution_count": 260,
      "outputs": [
        {
          "output_type": "stream",
          "name": "stdout",
          "text": [
            "Shapiro-Wilk Test Statistic:\n",
            " 0.5367920466513962\n",
            "P-value:\n",
            " 5.7370655255285164e-92\n"
          ]
        },
        {
          "output_type": "stream",
          "name": "stderr",
          "text": [
            "/usr/local/lib/python3.10/dist-packages/scipy/stats/_axis_nan_policy.py:531: UserWarning: scipy.stats.shapiro: For N > 5000, computed p-value may not be accurate. Current N is 8629.\n",
            "  res = hypotest_fun_out(*samples, **kwds)\n"
          ]
        }
      ]
    },
    {
      "cell_type": "code",
      "source": [
        "eng_data = df['eng_9']\n",
        "\n",
        "# Shapiro-Wilk test\n",
        "stat, p_value = shapiro(eng_data)\n",
        "\n",
        "print('Shapiro-Wilk Test Statistic:\\n',stat)\n",
        "print('P-value:\\n', p_value)"
      ],
      "metadata": {
        "colab": {
          "base_uri": "https://localhost:8080/"
        },
        "id": "FnWs6i1r2F41",
        "outputId": "3851b701-201a-421d-f677-b52833b865e9"
      },
      "execution_count": 261,
      "outputs": [
        {
          "output_type": "stream",
          "name": "stdout",
          "text": [
            "Shapiro-Wilk Test Statistic:\n",
            " 0.5094214114597428\n",
            "P-value:\n",
            " 2.5146717548230418e-93\n"
          ]
        }
      ]
    },
    {
      "cell_type": "markdown",
      "source": [
        " Since data is not normally distributed, we proceed with non-parametric tests for hypothesis testing"
      ],
      "metadata": {
        "id": "weWVug5b5tU4"
      }
    },
    {
      "cell_type": "markdown",
      "source": [
        "# Non-Parametric Hypothesis Testing:\n",
        "\n",
        "We use tests such as the Mann-Whitney U test to compare between groups (e.g., Summer program participants vs. non-participants) and their credits."
      ],
      "metadata": {
        "id": "qW8K2YbI5xsQ"
      }
    },
    {
      "cell_type": "code",
      "source": [
        "from scipy.stats import mannwhitneyu\n",
        "\n",
        "# Data for Summer Math Program participants and non-participants\n",
        "math_credits_participants = df[df['sum_math_8'] == 1]['math_9']\n",
        "math_credits_non_participants = df[df['sum_math_8'] == 0]['math_9']\n",
        "\n",
        "# Mann-Whitney U test\n",
        "stat, p_value = mannwhitneyu(math_credits_participants, math_credits_non_participants)\n",
        "\n",
        "print('Mann-Whitney U Test Statistic for MATH:',stat)\n",
        "print('P-value:', p_value)"
      ],
      "metadata": {
        "colab": {
          "base_uri": "https://localhost:8080/"
        },
        "id": "3lLWrlvD2fM4",
        "outputId": "17db00c1-e2cf-4727-9d71-1e2873eef689"
      },
      "execution_count": 262,
      "outputs": [
        {
          "output_type": "stream",
          "name": "stdout",
          "text": [
            "Mann-Whitney U Test Statistic for MATH: 7397559.0\n",
            "P-value: 0.0004489832221660468\n"
          ]
        }
      ]
    },
    {
      "cell_type": "code",
      "source": [
        "# Data for Summer English Program participants and non-participants\n",
        "eng_credits_participants = df[df['sum_eng_8'] == 1]['eng_9']\n",
        "eng_credits_non_participants = df[df['sum_eng_8'] == 0]['eng_9']\n",
        "\n",
        "# Mann-Whitney U test\n",
        "stat, p_value = mannwhitneyu(eng_credits_participants, eng_credits_non_participants)\n",
        "\n",
        "print('Mann-Whitney U Test Statistic for ENGLISH:',stat)\n",
        "print('P-value:', p_value)"
      ],
      "metadata": {
        "colab": {
          "base_uri": "https://localhost:8080/"
        },
        "id": "J2BktLNH2fPv",
        "outputId": "d1d7fa8f-9674-4c94-ab36-52afc38ccd94"
      },
      "execution_count": 263,
      "outputs": [
        {
          "output_type": "stream",
          "name": "stdout",
          "text": [
            "Mann-Whitney U Test Statistic for ENGLISH: 7291920.5\n",
            "P-value: 0.04724977138633519\n"
          ]
        }
      ]
    },
    {
      "cell_type": "markdown",
      "source": [
        "## ELL"
      ],
      "metadata": {
        "id": "_VaGDxpqCY77"
      }
    },
    {
      "cell_type": "code",
      "source": [
        "# For ONLY ELL students\n",
        "ell_students = df[df['s_ell'] == 1]\n",
        "\n",
        "# Separating ELL students by summer English program participation\n",
        "participated = ell_students[ell_students['sum_eng_8'] == 1]['eng_9']\n",
        "did_not_participate = ell_students[ell_students['sum_eng_8'] == 0]['eng_9']\n",
        "\n",
        "# Mann-Whitney U Test\n",
        "stat, p_value = mannwhitneyu(participated, did_not_participate)\n",
        "\n",
        "print('Mann-Whitney U Test Statistic for ENGLISH & ELL students :',stat)\n",
        "print('P-value:', p_value)"
      ],
      "metadata": {
        "colab": {
          "base_uri": "https://localhost:8080/"
        },
        "id": "qmXaFbGwxuRG",
        "outputId": "f67e7d66-2539-49dd-bca2-72bc91d4df8e"
      },
      "execution_count": 264,
      "outputs": [
        {
          "output_type": "stream",
          "name": "stdout",
          "text": [
            "Mann-Whitney U Test Statistic for ENGLISH & ELL students : 82461.5\n",
            "P-value: 0.0445667838880055\n"
          ]
        }
      ]
    },
    {
      "cell_type": "code",
      "source": [
        "# For ONLY ELL students\n",
        "ell_students = df[df['s_ell'] == 1]\n",
        "\n",
        "# Separating ELL students by summer Math program participation\n",
        "participated = ell_students[ell_students['sum_math_8'] == 1]['math_9']\n",
        "did_not_participate = ell_students[ell_students['sum_math_8'] == 0]['math_9']\n",
        "\n",
        "# Mann-Whitney U Test\n",
        "stat, p_value = mannwhitneyu(participated, did_not_participate)\n",
        "\n",
        "print('Mann-Whitney U Test Statistic for MATH & ELL students :',stat)\n",
        "print('P-value:', p_value)"
      ],
      "metadata": {
        "colab": {
          "base_uri": "https://localhost:8080/"
        },
        "id": "-XPIeAMMi-dq",
        "outputId": "d4124433-667e-4d9f-ab03-a63ee54aeef0"
      },
      "execution_count": 265,
      "outputs": [
        {
          "output_type": "stream",
          "name": "stdout",
          "text": [
            "Mann-Whitney U Test Statistic for MATH & ELL students : 71916.5\n",
            "P-value: 0.7536827842265681\n"
          ]
        }
      ]
    },
    {
      "cell_type": "markdown",
      "source": [
        "## SPED"
      ],
      "metadata": {
        "id": "BPWBpF0sCW6m"
      }
    },
    {
      "cell_type": "code",
      "source": [
        "# For ONLY SPED students\n",
        "sped_students = df[df['s_sped'] == 1]\n",
        "\n",
        "# Separating SPED students by summer Math program participation\n",
        "participated = sped_students[sped_students['sum_math_8'] == 1]['math_9']\n",
        "did_not_participate = sped_students[sped_students['sum_math_8'] == 0]['math_9']\n",
        "\n",
        "# Mann-Whitney U Test\n",
        "stat, p_value = mannwhitneyu(participated, did_not_participate)\n",
        "\n",
        "print('Mann-Whitney U Test Statistic for MATH & SPED students:', stat)\n",
        "print('P-value:', p_value)"
      ],
      "metadata": {
        "colab": {
          "base_uri": "https://localhost:8080/"
        },
        "id": "BHe1__IOP4eZ",
        "outputId": "415eabbf-37b1-434b-d86b-4591a8f8ad52"
      },
      "execution_count": 266,
      "outputs": [
        {
          "output_type": "stream",
          "name": "stdout",
          "text": [
            "Mann-Whitney U Test Statistic for MATH & SPED students: 89751.0\n",
            "P-value: 0.052183986634121424\n"
          ]
        }
      ]
    },
    {
      "cell_type": "code",
      "source": [
        "# For ONLY SPED students\n",
        "sped_students = df[df['s_sped'] == 1]\n",
        "\n",
        "# Separating SPED students by summer English program participation\n",
        "participated = sped_students[sped_students['sum_eng_8'] == 1]['eng_9']\n",
        "did_not_participate = sped_students[sped_students['sum_eng_8'] == 0]['eng_9']\n",
        "\n",
        "# Mann-Whitney U Test\n",
        "stat, p_value = mannwhitneyu(participated, did_not_participate)\n",
        "\n",
        "print('Mann-Whitney U Test Statistic for ENGLISH & SPED students:', stat)\n",
        "print('P-value:', p_value)"
      ],
      "metadata": {
        "colab": {
          "base_uri": "https://localhost:8080/"
        },
        "id": "jcpPKGlVP4fw",
        "outputId": "0e093a42-f4d1-40ea-983e-83009d3df8f5"
      },
      "execution_count": 267,
      "outputs": [
        {
          "output_type": "stream",
          "name": "stdout",
          "text": [
            "Mann-Whitney U Test Statistic for ENGLISH & SPED students: 83812.5\n",
            "P-value: 0.9495471331639519\n"
          ]
        }
      ]
    },
    {
      "cell_type": "markdown",
      "source": [
        "## FRPL"
      ],
      "metadata": {
        "id": "loCEzNrDDQq7"
      }
    },
    {
      "cell_type": "code",
      "source": [
        "# For ONLY FRPL students\n",
        "frpl_students = df[df['s_frpl'] == 1]\n",
        "\n",
        "# Separating FRPL students by summer English program participation\n",
        "participated = frpl_students[frpl_students['sum_eng_8'] == 1]['eng_9']\n",
        "did_not_participate = frpl_students[frpl_students['sum_eng_8'] == 0]['eng_9']\n",
        "\n",
        "# Mann-Whitney U Test\n",
        "stat, p_value = mannwhitneyu(participated, did_not_participate)\n",
        "\n",
        "print('Mann-Whitney U Test Statistic for ENGLISH & FRPL students:', stat)\n",
        "print('P-value:', p_value)"
      ],
      "metadata": {
        "colab": {
          "base_uri": "https://localhost:8080/"
        },
        "id": "pkjyQziIDR-t",
        "outputId": "bf04cd28-c05b-4565-fb03-a2f2c1ed2b29"
      },
      "execution_count": 268,
      "outputs": [
        {
          "output_type": "stream",
          "name": "stdout",
          "text": [
            "Mann-Whitney U Test Statistic for ENGLISH & FRPL students: 1237521.5\n",
            "P-value: 0.01209939041523439\n"
          ]
        }
      ]
    },
    {
      "cell_type": "code",
      "source": [
        "from scipy.stats import mannwhitneyu\n",
        "\n",
        "# For only FRPL students\n",
        "frpl_students = df[df['s_frpl'] == 1]\n",
        "\n",
        "# Separating FRPL students by summer Math program participation\n",
        "participated = frpl_students[frpl_students['sum_math_8'] == 1]['math_9']\n",
        "did_not_participate = frpl_students[frpl_students['sum_math_8'] == 0]['math_9']\n",
        "\n",
        "# Mann-Whitney U Test\n",
        "stat, p_value = mannwhitneyu(participated, did_not_participate)\n",
        "\n",
        "print('Mann-Whitney U Test Statistic for MATH & FRPL students:', stat)\n",
        "print('P-value:', p_value)"
      ],
      "metadata": {
        "colab": {
          "base_uri": "https://localhost:8080/"
        },
        "id": "98bB-z80De3e",
        "outputId": "d0b38f83-6b7d-45e7-bcdd-5a258dc27d26"
      },
      "execution_count": 269,
      "outputs": [
        {
          "output_type": "stream",
          "name": "stdout",
          "text": [
            "Mann-Whitney U Test Statistic for MATH & FRPL students: 1228915.5\n",
            "P-value: 0.009898136433900915\n"
          ]
        }
      ]
    }
  ],
  "metadata": {
    "colab": {
      "provenance": []
    },
    "kernelspec": {
      "display_name": "Python 3",
      "name": "python3"
    }
  },
  "nbformat": 4,
  "nbformat_minor": 0
}